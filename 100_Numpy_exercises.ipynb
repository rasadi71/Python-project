{
 "cells": [
  {
   "cell_type": "markdown",
   "id": "d46e26d4",
   "metadata": {},
   "source": [
    "# 100 numpy exercises\n",
    "\n",
    "This is a collection of exercises that have been collected in the numpy mailing list, on stack overflow\n",
    "and in the numpy documentation. The goal of this collection is to offer a quick reference for both old\n",
    "and new users but also to provide a set of exercises for those who teach.\n",
    "\n",
    "\n",
    "If you find an error or think you've a better way to solve some of them, feel\n",
    "free to open an issue at <https://github.com/rougier/numpy-100>."
   ]
  },
  {
   "cell_type": "markdown",
   "id": "d391e44c",
   "metadata": {},
   "source": [
    "File automatically generated. See the documentation to update questions/answers/hints programmatically."
   ]
  },
  {
   "cell_type": "markdown",
   "id": "1ce7c53f",
   "metadata": {},
   "source": [
    "Run the `initialize.py` module, then for each question you can query the\n",
    "answer or an hint with `hint(n)` or `answer(n)` for `n` question number."
   ]
  },
  {
   "cell_type": "code",
   "execution_count": 1,
   "id": "2e6ba9b2",
   "metadata": {},
   "outputs": [
    {
     "ename": "Exception",
     "evalue": "File `'initialise.py'` not found.",
     "output_type": "error",
     "traceback": [
      "\u001b[1;31m---------------------------------------------------------------------------\u001b[0m",
      "\u001b[1;31mOSError\u001b[0m                                   Traceback (most recent call last)",
      "File \u001b[1;32m~\\AppData\\Local\\Packages\\PythonSoftwareFoundation.Python.3.11_qbz5n2kfra8p0\\LocalCache\\local-packages\\Python311\\site-packages\\IPython\\core\\magics\\execution.py:720\u001b[0m, in \u001b[0;36mExecutionMagics.run\u001b[1;34m(self, parameter_s, runner, file_finder)\u001b[0m\n\u001b[0;32m    719\u001b[0m     fpath \u001b[38;5;241m=\u001b[39m arg_lst[\u001b[38;5;241m0\u001b[39m]\n\u001b[1;32m--> 720\u001b[0m     filename \u001b[38;5;241m=\u001b[39m \u001b[43mfile_finder\u001b[49m\u001b[43m(\u001b[49m\u001b[43mfpath\u001b[49m\u001b[43m)\u001b[49m\n\u001b[0;32m    721\u001b[0m \u001b[38;5;28;01mexcept\u001b[39;00m \u001b[38;5;167;01mIndexError\u001b[39;00m \u001b[38;5;28;01mas\u001b[39;00m e:\n",
      "File \u001b[1;32m~\\AppData\\Local\\Packages\\PythonSoftwareFoundation.Python.3.11_qbz5n2kfra8p0\\LocalCache\\local-packages\\Python311\\site-packages\\IPython\\utils\\path.py:91\u001b[0m, in \u001b[0;36mget_py_filename\u001b[1;34m(name)\u001b[0m\n\u001b[0;32m     90\u001b[0m         \u001b[38;5;28;01mreturn\u001b[39;00m py_name\n\u001b[1;32m---> 91\u001b[0m \u001b[38;5;28;01mraise\u001b[39;00m \u001b[38;5;167;01mIOError\u001b[39;00m(\u001b[38;5;124m\"\u001b[39m\u001b[38;5;124mFile `\u001b[39m\u001b[38;5;132;01m%r\u001b[39;00m\u001b[38;5;124m` not found.\u001b[39m\u001b[38;5;124m\"\u001b[39m \u001b[38;5;241m%\u001b[39m name)\n",
      "\u001b[1;31mOSError\u001b[0m: File `'initialise.py'` not found.",
      "\nThe above exception was the direct cause of the following exception:\n",
      "\u001b[1;31mException\u001b[0m                                 Traceback (most recent call last)",
      "Cell \u001b[1;32mIn[1], line 1\u001b[0m\n\u001b[1;32m----> 1\u001b[0m \u001b[43mget_ipython\u001b[49m\u001b[43m(\u001b[49m\u001b[43m)\u001b[49m\u001b[38;5;241;43m.\u001b[39;49m\u001b[43mrun_line_magic\u001b[49m\u001b[43m(\u001b[49m\u001b[38;5;124;43m'\u001b[39;49m\u001b[38;5;124;43mrun\u001b[39;49m\u001b[38;5;124;43m'\u001b[39;49m\u001b[43m,\u001b[49m\u001b[43m \u001b[49m\u001b[38;5;124;43m'\u001b[39;49m\u001b[38;5;124;43minitialise.py\u001b[39;49m\u001b[38;5;124;43m'\u001b[39;49m\u001b[43m)\u001b[49m\n",
      "File \u001b[1;32m~\\AppData\\Local\\Packages\\PythonSoftwareFoundation.Python.3.11_qbz5n2kfra8p0\\LocalCache\\local-packages\\Python311\\site-packages\\IPython\\core\\interactiveshell.py:2480\u001b[0m, in \u001b[0;36mInteractiveShell.run_line_magic\u001b[1;34m(self, magic_name, line, _stack_depth)\u001b[0m\n\u001b[0;32m   2478\u001b[0m     kwargs[\u001b[38;5;124m'\u001b[39m\u001b[38;5;124mlocal_ns\u001b[39m\u001b[38;5;124m'\u001b[39m] \u001b[38;5;241m=\u001b[39m \u001b[38;5;28mself\u001b[39m\u001b[38;5;241m.\u001b[39mget_local_scope(stack_depth)\n\u001b[0;32m   2479\u001b[0m \u001b[38;5;28;01mwith\u001b[39;00m \u001b[38;5;28mself\u001b[39m\u001b[38;5;241m.\u001b[39mbuiltin_trap:\n\u001b[1;32m-> 2480\u001b[0m     result \u001b[38;5;241m=\u001b[39m \u001b[43mfn\u001b[49m\u001b[43m(\u001b[49m\u001b[38;5;241;43m*\u001b[39;49m\u001b[43margs\u001b[49m\u001b[43m,\u001b[49m\u001b[43m \u001b[49m\u001b[38;5;241;43m*\u001b[39;49m\u001b[38;5;241;43m*\u001b[39;49m\u001b[43mkwargs\u001b[49m\u001b[43m)\u001b[49m\n\u001b[0;32m   2482\u001b[0m \u001b[38;5;66;03m# The code below prevents the output from being displayed\u001b[39;00m\n\u001b[0;32m   2483\u001b[0m \u001b[38;5;66;03m# when using magics with decorator @output_can_be_silenced\u001b[39;00m\n\u001b[0;32m   2484\u001b[0m \u001b[38;5;66;03m# when the last Python token in the expression is a ';'.\u001b[39;00m\n\u001b[0;32m   2485\u001b[0m \u001b[38;5;28;01mif\u001b[39;00m \u001b[38;5;28mgetattr\u001b[39m(fn, magic\u001b[38;5;241m.\u001b[39mMAGIC_OUTPUT_CAN_BE_SILENCED, \u001b[38;5;28;01mFalse\u001b[39;00m):\n",
      "File \u001b[1;32m~\\AppData\\Local\\Packages\\PythonSoftwareFoundation.Python.3.11_qbz5n2kfra8p0\\LocalCache\\local-packages\\Python311\\site-packages\\IPython\\core\\magics\\execution.py:731\u001b[0m, in \u001b[0;36mExecutionMagics.run\u001b[1;34m(self, parameter_s, runner, file_finder)\u001b[0m\n\u001b[0;32m    729\u001b[0m     \u001b[38;5;28;01mif\u001b[39;00m os\u001b[38;5;241m.\u001b[39mname \u001b[38;5;241m==\u001b[39m \u001b[38;5;124m'\u001b[39m\u001b[38;5;124mnt\u001b[39m\u001b[38;5;124m'\u001b[39m \u001b[38;5;129;01mand\u001b[39;00m re\u001b[38;5;241m.\u001b[39mmatch(\u001b[38;5;124mr\u001b[39m\u001b[38;5;124m\"\u001b[39m\u001b[38;5;124m^\u001b[39m\u001b[38;5;124m'\u001b[39m\u001b[38;5;124m.*\u001b[39m\u001b[38;5;124m'\u001b[39m\u001b[38;5;124m$\u001b[39m\u001b[38;5;124m\"\u001b[39m,fpath):\n\u001b[0;32m    730\u001b[0m         warn(\u001b[38;5;124m'\u001b[39m\u001b[38;5;124mFor Windows, use double quotes to wrap a filename: \u001b[39m\u001b[38;5;132;01m%r\u001b[39;00m\u001b[38;5;124mun \u001b[39m\u001b[38;5;124m\"\u001b[39m\u001b[38;5;124mmypath\u001b[39m\u001b[38;5;130;01m\\\\\u001b[39;00m\u001b[38;5;124mmyfile.py\u001b[39m\u001b[38;5;124m\"\u001b[39m\u001b[38;5;124m'\u001b[39m)\n\u001b[1;32m--> 731\u001b[0m     \u001b[38;5;28;01mraise\u001b[39;00m \u001b[38;5;167;01mException\u001b[39;00m(msg) \u001b[38;5;28;01mfrom\u001b[39;00m\u001b[38;5;250m \u001b[39m\u001b[38;5;21;01me\u001b[39;00m\n\u001b[0;32m    732\u001b[0m \u001b[38;5;28;01mexcept\u001b[39;00m \u001b[38;5;167;01mTypeError\u001b[39;00m:\n\u001b[0;32m    733\u001b[0m     \u001b[38;5;28;01mif\u001b[39;00m fpath \u001b[38;5;129;01min\u001b[39;00m sys\u001b[38;5;241m.\u001b[39mmeta_path:\n",
      "\u001b[1;31mException\u001b[0m: File `'initialise.py'` not found."
     ]
    }
   ],
   "source": [
    "%run initialise.py"
   ]
  },
  {
   "cell_type": "markdown",
   "id": "dcc6b1ac",
   "metadata": {},
   "source": [
    "#### 1. Import the numpy package under the name `np` (★☆☆)"
   ]
  },
  {
   "cell_type": "code",
   "execution_count": 2,
   "id": "6c52078e",
   "metadata": {},
   "outputs": [],
   "source": [
    "import numpy as np"
   ]
  },
  {
   "cell_type": "markdown",
   "id": "118ded29",
   "metadata": {},
   "source": [
    "#### 2. Print the numpy version and the configuration (★☆☆)"
   ]
  },
  {
   "cell_type": "code",
   "execution_count": 3,
   "id": "023a2c52",
   "metadata": {},
   "outputs": [
    {
     "name": "stdout",
     "output_type": "stream",
     "text": [
      "numpy version 2.2.4\n"
     ]
    }
   ],
   "source": [
    "print(\"numpy version\",np.__version__)"
   ]
  },
  {
   "cell_type": "markdown",
   "id": "172b913a",
   "metadata": {},
   "source": [
    "#### 3. Create a null vector of size 10 (★☆☆)"
   ]
  },
  {
   "cell_type": "code",
   "execution_count": 4,
   "id": "df54025a",
   "metadata": {},
   "outputs": [
    {
     "name": "stdout",
     "output_type": "stream",
     "text": [
      "[0. 0. 0. 0. 0. 0. 0. 0. 0. 0.]\n"
     ]
    }
   ],
   "source": [
    "null_vector=np.zeros(10)\n",
    "print(null_vector)"
   ]
  },
  {
   "cell_type": "markdown",
   "id": "95ee9e07",
   "metadata": {},
   "source": [
    "#### 4. How to find the memory size of any array (★☆☆)"
   ]
  },
  {
   "cell_type": "code",
   "execution_count": 5,
   "id": "5c5b0950",
   "metadata": {},
   "outputs": [
    {
     "name": "stdout",
     "output_type": "stream",
     "text": [
      "56\n"
     ]
    }
   ],
   "source": [
    "array=np.array([1,3,4,5,6,8,19])\n",
    "memorysize=array.nbytes\n",
    "print(memorysize)"
   ]
  },
  {
   "cell_type": "markdown",
   "id": "45fca154",
   "metadata": {},
   "source": [
    "#### 5. How to get the documentation of the numpy add function from the command line? (★☆☆)"
   ]
  },
  {
   "cell_type": "code",
   "execution_count": 6,
   "id": "fcb1248a",
   "metadata": {},
   "outputs": [
    {
     "name": "stdout",
     "output_type": "stream",
     "text": [
      "Help on ufunc in module numpy:\n",
      "\n",
      "add = <ufunc 'add'>\n",
      "    add(x1, x2, /, out=None, *, where=True, casting='same_kind', order='K', dtype=None, subok=True[, signature])\n",
      "    \n",
      "    Add arguments element-wise.\n",
      "    \n",
      "    Parameters\n",
      "    ----------\n",
      "    x1, x2 : array_like\n",
      "        The arrays to be added.\n",
      "        If ``x1.shape != x2.shape``, they must be broadcastable to a common\n",
      "        shape (which becomes the shape of the output).\n",
      "    out : ndarray, None, or tuple of ndarray and None, optional\n",
      "        A location into which the result is stored. If provided, it must have\n",
      "        a shape that the inputs broadcast to. If not provided or None,\n",
      "        a freshly-allocated array is returned. A tuple (possible only as a\n",
      "        keyword argument) must have length equal to the number of outputs.\n",
      "    where : array_like, optional\n",
      "        This condition is broadcast over the input. At locations where the\n",
      "        condition is True, the `out` array will be set to the ufunc result.\n",
      "        Elsewhere, the `out` array will retain its original value.\n",
      "        Note that if an uninitialized `out` array is created via the default\n",
      "        ``out=None``, locations within it where the condition is False will\n",
      "        remain uninitialized.\n",
      "    **kwargs\n",
      "        For other keyword-only arguments, see the\n",
      "        :ref:`ufunc docs <ufuncs.kwargs>`.\n",
      "    \n",
      "    Returns\n",
      "    -------\n",
      "    add : ndarray or scalar\n",
      "        The sum of `x1` and `x2`, element-wise.\n",
      "        This is a scalar if both `x1` and `x2` are scalars.\n",
      "    \n",
      "    Notes\n",
      "    -----\n",
      "    Equivalent to `x1` + `x2` in terms of array broadcasting.\n",
      "    \n",
      "    Examples\n",
      "    --------\n",
      "    >>> import numpy as np\n",
      "    >>> np.add(1.0, 4.0)\n",
      "    5.0\n",
      "    >>> x1 = np.arange(9.0).reshape((3, 3))\n",
      "    >>> x2 = np.arange(3.0)\n",
      "    >>> np.add(x1, x2)\n",
      "    array([[  0.,   2.,   4.],\n",
      "           [  3.,   5.,   7.],\n",
      "           [  6.,   8.,  10.]])\n",
      "    \n",
      "    The ``+`` operator can be used as a shorthand for ``np.add`` on ndarrays.\n",
      "    \n",
      "    >>> x1 = np.arange(9.0).reshape((3, 3))\n",
      "    >>> x2 = np.arange(3.0)\n",
      "    >>> x1 + x2\n",
      "    array([[ 0.,  2.,  4.],\n",
      "           [ 3.,  5.,  7.],\n",
      "           [ 6.,  8., 10.]])\n",
      "\n"
     ]
    }
   ],
   "source": [
    "help(np.add)"
   ]
  },
  {
   "cell_type": "markdown",
   "id": "674e8019",
   "metadata": {},
   "source": [
    "#### 6. Create a null vector of size 10 but the fifth value which is 1 (★☆☆)"
   ]
  },
  {
   "cell_type": "code",
   "execution_count": 7,
   "id": "452df2a7",
   "metadata": {},
   "outputs": [
    {
     "name": "stdout",
     "output_type": "stream",
     "text": [
      "[0. 0. 0. 0. 1. 0. 0. 0. 0. 0.]\n"
     ]
    }
   ],
   "source": [
    "null_vector=np.zeros(10)\n",
    "null_vector[4]=1\n",
    "print(null_vector)"
   ]
  },
  {
   "cell_type": "markdown",
   "id": "7685e337",
   "metadata": {},
   "source": [
    "#### 7. Create a vector with values ranging from 10 to 49 (★☆☆)"
   ]
  },
  {
   "cell_type": "code",
   "execution_count": 9,
   "id": "10847d11",
   "metadata": {},
   "outputs": [
    {
     "name": "stdout",
     "output_type": "stream",
     "text": [
      "[10 11 12 13 14 15 16 17 18 19 20 21 22 23 24 25 26 27 28 29 30 31 32 33\n",
      " 34 35 36 37 38 39 40 41 42 43 44 45 46 47 48 49]\n"
     ]
    }
   ],
   "source": [
    "vector=np.arange(10,50)\n",
    "print(vector)"
   ]
  },
  {
   "cell_type": "markdown",
   "id": "54c913ba",
   "metadata": {},
   "source": [
    "#### 8. Reverse a vector (first element becomes last) (★☆☆)"
   ]
  },
  {
   "cell_type": "code",
   "execution_count": 11,
   "id": "34722e83",
   "metadata": {},
   "outputs": [
    {
     "name": "stdout",
     "output_type": "stream",
     "text": [
      "[49 48 47 46 45 44 43 42 41 40 39 38 37 36 35 34 33 32 31 30 29 28 27 26\n",
      " 25 24 23 22 21 20 19 18 17 16 15 14 13 12 11 10]\n"
     ]
    }
   ],
   "source": [
    "vector=np.arange(10,50)\n",
    "vector=vector[::-1]\n",
    "print(vector)"
   ]
  },
  {
   "cell_type": "markdown",
   "id": "8e72fd08",
   "metadata": {},
   "source": [
    "#### 9. Create a 3x3 matrix with values ranging from 0 to 8 (★☆☆)"
   ]
  },
  {
   "cell_type": "code",
   "execution_count": 13,
   "id": "e18eef56",
   "metadata": {},
   "outputs": [
    {
     "data": {
      "text/plain": [
       "array([[0, 1, 2],\n",
       "       [3, 4, 5],\n",
       "       [6, 7, 8]])"
      ]
     },
     "execution_count": 13,
     "metadata": {},
     "output_type": "execute_result"
    }
   ],
   "source": [
    "matrix=np.arange(9).reshape(3,3)\n",
    "matrix"
   ]
  },
  {
   "cell_type": "markdown",
   "id": "088424fc",
   "metadata": {},
   "source": [
    "#### 10. Find indices of non-zero elements from [1,2,0,0,4,0] (★☆☆)"
   ]
  },
  {
   "cell_type": "code",
   "execution_count": 28,
   "id": "9a402d06",
   "metadata": {},
   "outputs": [
    {
     "name": "stdout",
     "output_type": "stream",
     "text": [
      "(array([0, 1, 4]),)\n"
     ]
    }
   ],
   "source": [
    "array=np.array([1,3,0,0,4,0])\n",
    "non_zero=np.nonzero(array)\n",
    "print(non_zero)\n"
   ]
  },
  {
   "cell_type": "markdown",
   "id": "3f347de9",
   "metadata": {},
   "source": [
    "#### 11. Create a 3x3 identity matrix (★☆☆)"
   ]
  },
  {
   "cell_type": "code",
   "execution_count": 26,
   "id": "e38459c2",
   "metadata": {},
   "outputs": [
    {
     "name": "stdout",
     "output_type": "stream",
     "text": [
      "[[1. 0. 0.]\n",
      " [0. 1. 0.]\n",
      " [0. 0. 1.]]\n"
     ]
    }
   ],
   "source": [
    "idnt_metrix=np.eye(3)\n",
    "print(idnt_metrix)"
   ]
  },
  {
   "cell_type": "markdown",
   "id": "24e98f25",
   "metadata": {},
   "source": [
    "#### 12. Create a 3x3x3 array with random values (★☆☆)"
   ]
  },
  {
   "cell_type": "code",
   "execution_count": 27,
   "id": "94752bb3",
   "metadata": {},
   "outputs": [
    {
     "name": "stdout",
     "output_type": "stream",
     "text": [
      "[[[0.34069224 0.03988677 0.85544456]\n",
      "  [0.00522979 0.74287746 0.06523462]\n",
      "  [0.12970616 0.64968554 0.11227088]]\n",
      "\n",
      " [[0.0067945  0.49916922 0.35183969]\n",
      "  [0.48221174 0.34797761 0.55773217]\n",
      "  [0.37415002 0.14558306 0.75451672]]\n",
      "\n",
      " [[0.58235477 0.17441946 0.47570934]\n",
      "  [0.7046458  0.5877057  0.15910942]\n",
      "  [0.29663138 0.06330168 0.48674622]]]\n"
     ]
    }
   ],
   "source": [
    "random_array=np.random.rand(3,3,3)\n",
    "print(random_array)"
   ]
  },
  {
   "cell_type": "markdown",
   "id": "7cbca2cc",
   "metadata": {},
   "source": [
    "#### 13. Create a 10x10 array with random values and find the minimum and maximum values (★☆☆)"
   ]
  },
  {
   "cell_type": "code",
   "execution_count": 30,
   "id": "c0643b1f",
   "metadata": {},
   "outputs": [
    {
     "name": "stdout",
     "output_type": "stream",
     "text": [
      "[[[0.14323921 0.17075463 0.44835466]\n",
      "  [0.5675997  0.15435262 0.1293651 ]\n",
      "  [0.73279566 0.24298944 0.79057813]]\n",
      "\n",
      " [[0.6659413  0.59615279 0.89001415]\n",
      "  [0.1971807  0.11484737 0.48997915]\n",
      "  [0.68341903 0.34165983 0.21762912]]\n",
      "\n",
      " [[0.02219421 0.27163464 0.0301627 ]\n",
      "  [0.92992555 0.5922763  0.61907185]\n",
      "  [0.66465853 0.80598545 0.54183236]]]\n",
      "0.022194214753091912\n",
      "0.9299255481603471\n"
     ]
    }
   ],
   "source": [
    "random_array=np.random.rand(3,3,3)\n",
    "print(random_array)\n",
    "print(random_array.min())\n",
    "print(random_array.max())"
   ]
  },
  {
   "cell_type": "markdown",
   "id": "6cab4cbb",
   "metadata": {},
   "source": [
    "#### 14. Create a random vector of size 30 and find the mean value (★☆☆)"
   ]
  },
  {
   "cell_type": "code",
   "execution_count": 31,
   "id": "e922a524",
   "metadata": {},
   "outputs": [
    {
     "name": "stdout",
     "output_type": "stream",
     "text": [
      "[0.9891698  0.20333233 0.02945294 0.08703668 0.04437631 0.12719028\n",
      " 0.02183245 0.50656886 0.57708456 0.06146768 0.63143403 0.48443002\n",
      " 0.71580649 0.77689897 0.26948832 0.55745694 0.46467485 0.62421366\n",
      " 0.56775893 0.18293008 0.92226897 0.78711527 0.53901713 0.20296764\n",
      " 0.72661385 0.10918106 0.61719409 0.74785731 0.78573969 0.01629259]\n",
      "0.4458950594635025\n"
     ]
    }
   ],
   "source": [
    "random_vector=np.random.rand(30)\n",
    "mean_value=random_vector.mean()\n",
    "print(random_vector)\n",
    "print(mean_value)"
   ]
  },
  {
   "cell_type": "markdown",
   "id": "72053be8",
   "metadata": {},
   "source": [
    "#### 15. Create a 2d array with 1 on the border and 0 inside (★☆☆)"
   ]
  },
  {
   "cell_type": "code",
   "execution_count": 37,
   "id": "6bc84dfe",
   "metadata": {},
   "outputs": [
    {
     "name": "stdout",
     "output_type": "stream",
     "text": [
      "[[1. 1. 1. 1. 1.]\n",
      " [1. 0. 0. 0. 1.]\n",
      " [1. 0. 0. 0. 1.]\n",
      " [1. 0. 0. 0. 1.]\n",
      " [1. 1. 1. 1. 1.]]\n"
     ]
    }
   ],
   "source": [
    "array=np.zeros((5,5))\n",
    "array[0,:]=1\n",
    "array[-1,:]=1\n",
    "array[:,0]=1\n",
    "array[:,-1]=1\n",
    "print(array)"
   ]
  },
  {
   "cell_type": "markdown",
   "id": "86b0206b",
   "metadata": {},
   "source": [
    "#### 16. How to add a border (filled with 0's) around an existing array? (★☆☆)"
   ]
  },
  {
   "cell_type": "code",
   "execution_count": 44,
   "id": "41e66e3e",
   "metadata": {},
   "outputs": [
    {
     "name": "stdout",
     "output_type": "stream",
     "text": [
      "[[0. 0. 0. 0. 0.]\n",
      " [0. 1. 1. 1. 0.]\n",
      " [0. 1. 1. 1. 0.]\n",
      " [0. 1. 1. 1. 0.]\n",
      " [0. 0. 0. 0. 0.]]\n"
     ]
    }
   ],
   "source": [
    "array=np.ones((3,3))\n",
    "border_array=np.pad(array,pad_width=1,mode='constant',constant_values=0)\n",
    "print(border_array)"
   ]
  },
  {
   "cell_type": "markdown",
   "id": "98a45574",
   "metadata": {},
   "source": [
    "#### 17. What is the result of the following expression? (★☆☆)\n",
    "```python\n",
    "0 * np.nan\n",
    "np.nan == np.nan\n",
    "np.inf > np.nan\n",
    "np.nan - np.nan\n",
    "np.nan in set([np.nan])\n",
    "0.3 == 3 * 0.1\n",
    "```"
   ]
  },
  {
   "cell_type": "markdown",
   "id": "11055c5d",
   "metadata": {},
   "source": [
    "nan\n",
    "false\n",
    "false"
   ]
  },
  {
   "cell_type": "code",
   "execution_count": null,
   "id": "7eb533d5",
   "metadata": {},
   "outputs": [
    {
     "name": "stdout",
     "output_type": "stream",
     "text": [
      "False\n",
      "nan\n",
      "True\n",
      "False\n"
     ]
    }
   ],
   "source": [
    "\n",
    "print(np.inf>np.nan)\n",
    "print(np.nan-np.nan)\n",
    "print(np.nan in set([np.nan]))\n",
    "print(.3==3*0.1)"
   ]
  },
  {
   "cell_type": "markdown",
   "id": "1486619a",
   "metadata": {},
   "source": [
    "#### 18. Create a 5x5 matrix with values 1,2,3,4 just below the diagonal (★☆☆)"
   ]
  },
  {
   "cell_type": "code",
   "execution_count": 3,
   "id": "2b9fb59c",
   "metadata": {},
   "outputs": [
    {
     "name": "stdout",
     "output_type": "stream",
     "text": [
      "[[0 0 0 0 0]\n",
      " [1 0 0 0 0]\n",
      " [0 0 0 0 0]\n",
      " [0 0 0 0 0]\n",
      " [0 0 0 0 0]]\n",
      "[[0 0 0 0 0]\n",
      " [1 0 0 0 0]\n",
      " [0 2 0 0 0]\n",
      " [0 0 0 0 0]\n",
      " [0 0 0 0 0]]\n",
      "[[0 0 0 0 0]\n",
      " [1 0 0 0 0]\n",
      " [0 2 0 0 0]\n",
      " [0 0 3 0 0]\n",
      " [0 0 0 0 0]]\n",
      "[[0 0 0 0 0]\n",
      " [1 0 0 0 0]\n",
      " [0 2 0 0 0]\n",
      " [0 0 3 0 0]\n",
      " [0 0 0 4 0]]\n"
     ]
    }
   ],
   "source": [
    "matrix=np.zeros((5,5),dtype=int)\n",
    "value=[1,2,3,4]\n",
    "for i in range(1,5):\n",
    "    matrix[i,i-1]=value[i-1]\n",
    "    print(matrix)"
   ]
  },
  {
   "cell_type": "markdown",
   "id": "319287fd",
   "metadata": {},
   "source": [
    "#### 19. Create a 8x8 matrix and fill it with a checkerboard pattern (★☆☆)"
   ]
  },
  {
   "cell_type": "code",
   "execution_count": 9,
   "id": "299f5e60",
   "metadata": {},
   "outputs": [
    {
     "name": "stdout",
     "output_type": "stream",
     "text": [
      "[[0 1 0 1 0 1 0 1]\n",
      " [1 0 1 0 1 0 1 0]\n",
      " [0 1 0 1 0 1 0 1]\n",
      " [1 0 1 0 1 0 1 0]\n",
      " [0 1 0 1 0 1 0 1]\n",
      " [1 0 1 0 1 0 1 0]\n",
      " [0 1 0 1 0 1 0 1]\n",
      " [1 0 1 0 1 0 1 0]]\n"
     ]
    }
   ],
   "source": [
    "chk_brd=np.zeros((8,8), dtype=int)\n",
    "chk_brd[1::2,::2]=1\n",
    "chk_brd[::2,1::2]=1\n",
    "print(chk_brd)"
   ]
  },
  {
   "cell_type": "markdown",
   "id": "fb1686ed",
   "metadata": {},
   "source": [
    "#### 20. Consider a (6,7,8) shape array, what is the index (x,y,z) of the 100th element? (★☆☆)"
   ]
  },
  {
   "cell_type": "code",
   "execution_count": 3,
   "id": "22888cc4",
   "metadata": {},
   "outputs": [
    {
     "name": "stdout",
     "output_type": "stream",
     "text": [
      "The index (x,y,z) of the 100 th element is :(np.int64(1), np.int64(5), np.int64(3))\n"
     ]
    }
   ],
   "source": [
    "shape=(6,7,8)\n",
    "flattened_index =100-1\n",
    "index=np.unravel_index(flattened_index,shape)\n",
    "print(f\"The index (x,y,z) of the 100 th element is :{index}\")\n"
   ]
  },
  {
   "cell_type": "markdown",
   "id": "137ea278",
   "metadata": {},
   "source": [
    "#### 21. Create a checkerboard 8x8 matrix using the tile function (★☆☆)"
   ]
  },
  {
   "cell_type": "code",
   "execution_count": 7,
   "id": "9cb81fe1",
   "metadata": {},
   "outputs": [
    {
     "name": "stdout",
     "output_type": "stream",
     "text": [
      "[[0 1 0 1 0 1 0 1]\n",
      " [1 0 1 0 1 0 1 0]\n",
      " [0 1 0 1 0 1 0 1]\n",
      " [1 0 1 0 1 0 1 0]\n",
      " [0 1 0 1 0 1 0 1]\n",
      " [1 0 1 0 1 0 1 0]\n",
      " [0 1 0 1 0 1 0 1]\n",
      " [1 0 1 0 1 0 1 0]]\n"
     ]
    }
   ],
   "source": [
    "\n",
    "pattern=np.array([[0,1],[1,0]])\n",
    "chk_brd=np.tile(pattern,(4,4))\n",
    "print(chk_brd)"
   ]
  },
  {
   "cell_type": "markdown",
   "id": "9319f5a1",
   "metadata": {},
   "source": [
    "#### 22. Normalize a 5x5 random matrix (★☆☆)"
   ]
  },
  {
   "cell_type": "code",
   "execution_count": 10,
   "id": "fcdc0459",
   "metadata": {},
   "outputs": [
    {
     "name": "stdout",
     "output_type": "stream",
     "text": [
      "original Matrix :\n",
      "[[0.17712486 0.3851801  0.34945882 0.65746113 0.86994965]\n",
      " [0.76846457 0.75429927 0.74580223 0.35301783 0.65023146]\n",
      " [0.11986003 0.2273443  0.83310247 0.12444742 0.85558521]\n",
      " [0.53112962 0.63582412 0.51820662 0.8027889  0.16306539]\n",
      " [0.20505571 0.71850945 0.02701642 0.06683737 0.8486275 ]]\n",
      "\n",
      " Normalized matrix\n",
      "[[0.17807868 0.4249016  0.38252425 0.74791773 1.        ]\n",
      " [0.87960483 0.86280007 0.85271974 0.38674643 0.73934093]\n",
      " [0.11014349 0.23765569 0.95628695 0.11558567 0.98295898]\n",
      " [0.59804642 0.72224902 0.58271543 0.92032494 0.16139947]\n",
      " [0.21121399 0.8203414  0.         0.04724094 0.97470481]]\n"
     ]
    }
   ],
   "source": [
    "random_matrix=np.random.random((5,5))\n",
    "normalized_matrix=(random_matrix-np.min(random_matrix))/(np.max(random_matrix)-np.min(random_matrix))\n",
    "print(\"original Matrix :\")\n",
    "print(random_matrix)\n",
    "print(\"\\n Normalized matrix\")\n",
    "print(normalized_matrix)"
   ]
  },
  {
   "cell_type": "markdown",
   "id": "f1902fef",
   "metadata": {},
   "source": [
    "#### 23. Create a custom dtype that describes a color as four unsigned bytes (RGBA) (★☆☆)"
   ]
  },
  {
   "cell_type": "code",
   "execution_count": 16,
   "id": "7445cb2d",
   "metadata": {},
   "outputs": [
    {
     "name": "stdout",
     "output_type": "stream",
     "text": [
      "[(255,   0,   0, 255) (  0, 255,   0, 255) (  0,   0, 255, 255)\n",
      " (255, 255,   0, 255)]\n"
     ]
    }
   ],
   "source": [
    "rbga_dtype = np.dtype([('R', np.uint8), ('G', np.uint8), ('B', np.uint8), ('A', np.uint8)])\n",
    "color = np.array([(255, 0, 0, 255), (0, 255, 0, 255), (0, 0, 255, 255), (255, 255, 0, 255)], dtype=rbga_dtype)\n",
    "print(color)\n",
    "\n"
   ]
  },
  {
   "cell_type": "markdown",
   "id": "3f34bd2a",
   "metadata": {},
   "source": [
    "#### 24. Multiply a 5x3 matrix by a 3x2 matrix (real matrix product) (★☆☆)"
   ]
  },
  {
   "cell_type": "code",
   "execution_count": 3,
   "id": "ec8bd6da",
   "metadata": {},
   "outputs": [
    {
     "name": "stdout",
     "output_type": "stream",
     "text": [
      "[[0.94259047 0.02041107 0.50186215]\n",
      " [0.62498886 0.17137186 0.37440982]\n",
      " [0.60319491 0.3746021  0.2267312 ]\n",
      " [0.99748127 0.4333438  0.53127979]\n",
      " [0.87890255 0.26187762 0.67409319]]\n",
      "[[0.62187226 0.75868546]\n",
      " [0.3455219  0.5077052 ]\n",
      " [0.84512693 0.67533277]]\n",
      "[[1.01736055 1.06441644]\n",
      " [0.76429979 0.81402757]\n",
      " [0.69616005 0.80094164]\n",
      " [1.21903456 1.33557609]\n",
      " [1.20674388 1.25500444]]\n"
     ]
    }
   ],
   "source": [
    "matrix_1=np.random.rand(5,3)\n",
    "matrix_2=np.random.rand(3,2)\n",
    "result=np.dot(matrix_1,matrix_2)\n",
    "print(matrix_1)\n",
    "print(matrix_2)\n",
    "print(result)"
   ]
  },
  {
   "cell_type": "markdown",
   "id": "b1919ba3",
   "metadata": {},
   "source": [
    "#### 25. Given a 1D array, negate all elements which are between 3 and 8, in place. (★☆☆)"
   ]
  },
  {
   "cell_type": "code",
   "execution_count": 7,
   "id": "5b63b63b",
   "metadata": {},
   "outputs": [
    {
     "name": "stdout",
     "output_type": "stream",
     "text": [
      "[ 1 -4 -5 -6 -7  9 -7 -3]\n"
     ]
    }
   ],
   "source": [
    "ary=np.array([1,4,5,6,7,9,7,3])\n",
    "ary[(ary>=3) &(ary<=8)] *=-1\n",
    "print(ary)"
   ]
  },
  {
   "cell_type": "markdown",
   "id": "fb1daa27",
   "metadata": {},
   "source": [
    "#### 26. What is the output of the following script? (★☆☆)\n",
    "```python\n",
    "# Author: Jake VanderPlas\n",
    "\n",
    "print(sum(range(5),-1))\n",
    "from numpy import *\n",
    "print(sum(range(5),-1))\n",
    "```"
   ]
  },
  {
   "cell_type": "code",
   "execution_count": 11,
   "id": "52a34d3d",
   "metadata": {},
   "outputs": [
    {
     "name": "stdout",
     "output_type": "stream",
     "text": [
      "10\n",
      "10\n"
     ]
    }
   ],
   "source": [
    "print(sum(range(5),-1))\n",
    "from numpy import *\n",
    "print(sum(range(5),-1))"
   ]
  },
  {
   "cell_type": "markdown",
   "id": "89b7e7a7",
   "metadata": {},
   "source": [
    "#### 27. Consider an integer vector Z, which of these expressions are legal? (★☆☆)\n",
    "```python\n",
    "Z**Z\n",
    "2 << Z >> 2\n",
    "Z <- Z\n",
    "1j*Z\n",
    "Z/1/1\n",
    "Z<Z>Z\n",
    "```"
   ]
  },
  {
   "cell_type": "code",
   "execution_count": null,
   "id": "451181cf",
   "metadata": {},
   "outputs": [
    {
     "ename": "NameError",
     "evalue": "name 'z' is not defined",
     "output_type": "error",
     "traceback": [
      "\u001b[1;31m---------------------------------------------------------------------------\u001b[0m",
      "\u001b[1;31mNameError\u001b[0m                                 Traceback (most recent call last)",
      "Cell \u001b[1;32mIn[12], line 1\u001b[0m\n\u001b[1;32m----> 1\u001b[0m \u001b[43mz\u001b[49m\u001b[38;5;241m*\u001b[39m\u001b[38;5;241m*\u001b[39mz\n",
      "\u001b[1;31mNameError\u001b[0m: name 'z' is not defined"
     ]
    }
   ],
   "source": []
  },
  {
   "cell_type": "markdown",
   "id": "8c7601c6",
   "metadata": {},
   "source": [
    "#### 28. What are the result of the following expressions? (★☆☆)\n",
    "```python\n",
    "np.array(0) / np.array(0)\n",
    "np.array(0) // np.array(0)\n",
    "np.array([np.nan]).astype(int).astype(float)\n",
    "```"
   ]
  },
  {
   "cell_type": "code",
   "execution_count": 15,
   "id": "52983a0b",
   "metadata": {},
   "outputs": [
    {
     "name": "stderr",
     "output_type": "stream",
     "text": [
      "C:\\Users\\romal\\AppData\\Local\\Temp\\ipykernel_4544\\4081235388.py:1: RuntimeWarning: invalid value encountered in divide\n",
      "  np.array(0)/np.array(0)\n",
      "C:\\Users\\romal\\AppData\\Local\\Temp\\ipykernel_4544\\4081235388.py:2: RuntimeWarning: divide by zero encountered in floor_divide\n",
      "  np.array(0)//np.array(0)\n",
      "C:\\Users\\romal\\AppData\\Local\\Temp\\ipykernel_4544\\4081235388.py:3: RuntimeWarning: invalid value encountered in cast\n",
      "  np.array([np.nan]).astype(int).astype(float)\n"
     ]
    },
    {
     "data": {
      "text/plain": [
       "array([-9.22337204e+18])"
      ]
     },
     "execution_count": 15,
     "metadata": {},
     "output_type": "execute_result"
    }
   ],
   "source": [
    "np.array(0)/np.array(0)\n",
    "np.array(0)//np.array(0)\n",
    "np.array([np.nan]).astype(int).astype(float)\n",
    "\n"
   ]
  },
  {
   "cell_type": "markdown",
   "id": "06c9164d",
   "metadata": {},
   "source": [
    "#### 29. How to round away from zero a float array ? (★☆☆)"
   ]
  },
  {
   "cell_type": "code",
   "execution_count": 21,
   "id": "4cce0af8",
   "metadata": {},
   "outputs": [
    {
     "name": "stdout",
     "output_type": "stream",
     "text": [
      "[-3. -2.  2.  4.  0.]\n"
     ]
    }
   ],
   "source": [
    "float_array=np.array([-2.3,-1.5,1.2,3.7,0.0])\n",
    "rounded_array=np.sign(float_array)*np.ceil(np.abs(float_array))\n",
    "print(rounded_array)"
   ]
  },
  {
   "cell_type": "markdown",
   "id": "52235994",
   "metadata": {},
   "source": [
    "#### 30. How to find common values between two arrays? (★☆☆)"
   ]
  },
  {
   "cell_type": "code",
   "execution_count": 3,
   "id": "27eff6b1",
   "metadata": {},
   "outputs": [
    {
     "name": "stdout",
     "output_type": "stream",
     "text": [
      "common value : [3, 4, 5, 6]\n"
     ]
    }
   ],
   "source": [
    "ary1=[1,2,3,4,5,6]\n",
    "ary2=[9,8,6,5,4,3]\n",
    "cmn_value=list(set(ary1) & set(ary2))\n",
    "\n",
    "print(\"common value :\",cmn_value)"
   ]
  },
  {
   "cell_type": "markdown",
   "id": "7e6f7d78",
   "metadata": {},
   "source": [
    "#### 31. How to ignore all numpy warnings (not recommended)? (★☆☆)"
   ]
  },
  {
   "cell_type": "code",
   "execution_count": null,
   "id": "1bdde6e1",
   "metadata": {},
   "outputs": [],
   "source": [
    "import warnings\n",
    "import numpy as np\n",
    "warning.fi\n",
    "lterwarning(\"ignore\")\n",
    "array=np.array([1,2,3])\n",
    "print(np.divide(array,0))"
   ]
  },
  {
   "cell_type": "markdown",
   "id": "b001277e",
   "metadata": {},
   "source": [
    "#### 32. Is the following expressions true? (★☆☆)\n",
    "```python\n",
    "np.sqrt(-1) == np.emath.sqrt(-1)\n",
    "```"
   ]
  },
  {
   "cell_type": "code",
   "execution_count": 5,
   "id": "d8673bdf",
   "metadata": {},
   "outputs": [
    {
     "ename": "NameError",
     "evalue": "name 'np' is not defined",
     "output_type": "error",
     "traceback": [
      "\u001b[1;31m---------------------------------------------------------------------------\u001b[0m",
      "\u001b[1;31mNameError\u001b[0m                                 Traceback (most recent call last)",
      "Cell \u001b[1;32mIn[5], line 1\u001b[0m\n\u001b[1;32m----> 1\u001b[0m \u001b[43mnp\u001b[49m\u001b[38;5;241m.\u001b[39msqrt(\u001b[38;5;241m-\u001b[39m\u001b[38;5;241m1\u001b[39m) \u001b[38;5;241m==\u001b[39m np\u001b[38;5;241m.\u001b[39memath\u001b[38;5;241m.\u001b[39msqrt(\u001b[38;5;241m-\u001b[39m\u001b[38;5;241m1\u001b[39m)   \n",
      "\u001b[1;31mNameError\u001b[0m: name 'np' is not defined"
     ]
    }
   ],
   "source": [
    "np.sqrt(-1) == np.emath.sqrt(-1)   "
   ]
  },
  {
   "cell_type": "markdown",
   "id": "b9a5ff84",
   "metadata": {},
   "source": [
    "#### 33. How to get the dates of yesterday, today and tomorrow? (★☆☆)"
   ]
  },
  {
   "cell_type": "code",
   "execution_count": 2,
   "id": "f33f9cc2",
   "metadata": {},
   "outputs": [
    {
     "name": "stdout",
     "output_type": "stream",
     "text": [
      "2025-03-31 11:08:47.154098\n",
      "2025-04-01 11:08:47.154098\n",
      "2025-03-30 11:08:47.154098\n"
     ]
    }
   ],
   "source": [
    "from datetime import datetime,timedelta\n",
    "today=datetime.now()\n",
    "tomorrow=today+timedelta(days=1)\n",
    "yesterday=today-timedelta(days=1)\n",
    "print(today)\n",
    "print(tomorrow)\n",
    "print(yesterday)"
   ]
  },
  {
   "cell_type": "markdown",
   "id": "f8e96e58",
   "metadata": {},
   "source": [
    "#### 34. How to get all the dates corresponding to the month of July 2016? (★★☆)\n"
   ]
  },
  {
   "cell_type": "code",
   "execution_count": 3,
   "id": "3927a8e8",
   "metadata": {},
   "outputs": [
    {
     "name": "stdout",
     "output_type": "stream",
     "text": [
      "01-07-16\n",
      "02-07-16\n",
      "03-07-16\n",
      "04-07-16\n",
      "05-07-16\n",
      "06-07-16\n",
      "07-07-16\n",
      "08-07-16\n",
      "09-07-16\n",
      "10-07-16\n",
      "11-07-16\n",
      "12-07-16\n",
      "13-07-16\n",
      "14-07-16\n",
      "15-07-16\n",
      "16-07-16\n",
      "17-07-16\n",
      "18-07-16\n",
      "19-07-16\n",
      "20-07-16\n",
      "21-07-16\n",
      "22-07-16\n",
      "23-07-16\n",
      "24-07-16\n",
      "25-07-16\n",
      "26-07-16\n",
      "27-07-16\n",
      "28-07-16\n",
      "29-07-16\n",
      "30-07-16\n",
      "31-07-16\n"
     ]
    }
   ],
   "source": [
    "start_date=datetime(2016,7,1)\n",
    "end_date=datetime(2016,8,1)\n",
    "current_date=start_date\n",
    "while current_date<end_date:\n",
    "    print(current_date.strftime('%d-%m-%y'))\n",
    "    current_date+= timedelta(days=1)"
   ]
  },
  {
   "cell_type": "markdown",
   "id": "557c163e",
   "metadata": {},
   "source": [
    "#### 35. How to compute ((A+B)*(-A/2)) in place (without copy)? (★★☆)"
   ]
  },
  {
   "cell_type": "code",
   "execution_count": null,
   "id": "3c2f59ac",
   "metadata": {},
   "outputs": [],
   "source": []
  },
  {
   "cell_type": "markdown",
   "id": "14c05852",
   "metadata": {},
   "source": [
    "#### 36. Extract the integer part of a random array of positive numbers using 4 different methods (★★☆)"
   ]
  },
  {
   "cell_type": "code",
   "execution_count": 9,
   "id": "8b7d2937",
   "metadata": {},
   "outputs": [
    {
     "name": "stdout",
     "output_type": "stream",
     "text": [
      "[4. 5. 2. 5. 8. 5. 0. 7. 8. 4.]\n",
      "[1. 6. 5. 6. 5. 4. 6. 6. 7. 2.]\n"
     ]
    }
   ],
   "source": [
    "# 1 \n",
    "import numpy as np\n",
    "array=np.random.random(10)*10\n",
    "integer_part=np.floor(array)\n",
    "print(integer_part)\n",
    "#2\n",
    "\n",
    "import numpy as np\n",
    "array=np.random.rand(10)*10\n",
    "integer_part=np.floor(array)\n",
    "print(integer_part)"
   ]
  },
  {
   "cell_type": "markdown",
   "id": "003b8721",
   "metadata": {},
   "source": [
    "#### 37. Create a 5x5 matrix with row values ranging from 0 to 4 (★★☆)"
   ]
  },
  {
   "cell_type": "code",
   "execution_count": 19,
   "id": "63c75db0",
   "metadata": {},
   "outputs": [
    {
     "name": "stdout",
     "output_type": "stream",
     "text": [
      "[[0 1 2 3 4]\n",
      " [0 1 2 3 4]\n",
      " [0 1 2 3 4]\n",
      " [0 1 2 3 4]\n",
      " [0 1 2 3 4]]\n"
     ]
    }
   ],
   "source": [
    "#### 37. Create a 5x5 matrix with row values ranging from 0 to 4 (★★☆)\n",
    "import numpy as np\n",
    "\n",
    "matrix = np.tile(np.arange(5), (5, 1))  # Create a 5x5 matrix with rows ranging from 0 to 4\n",
    "print(matrix)\n"
   ]
  },
  {
   "cell_type": "markdown",
   "id": "8e71dc21",
   "metadata": {},
   "source": [
    "\n",
    "#### 38. Consider a generator function that generates 10 integers and use it to build an array (★☆☆)"
   ]
  },
  {
   "cell_type": "code",
   "execution_count": 23,
   "id": "f6aefd94",
   "metadata": {},
   "outputs": [
    {
     "name": "stdout",
     "output_type": "stream",
     "text": [
      "[0 1 2 3 4 5 6 7 8 9]\n"
     ]
    }
   ],
   "source": [
    "def generate_integer():\n",
    "    for i in range(10):\n",
    "        yield i\n",
    "    \n",
    "array=np.fromiter(generate_integer(),dtype=int)\n",
    "print(array)    "
   ]
  },
  {
   "cell_type": "markdown",
   "id": "b7f03449",
   "metadata": {},
   "source": [
    "#### 39. Create a vector of size 10 with values ranging from 0 to 1, both excluded (★★☆)"
   ]
  },
  {
   "cell_type": "code",
   "execution_count": 24,
   "id": "a27cd904",
   "metadata": {},
   "outputs": [
    {
     "name": "stdout",
     "output_type": "stream",
     "text": [
      "[0.09090909 0.18181818 0.27272727 0.36363636 0.45454545 0.54545455\n",
      " 0.63636364 0.72727273 0.81818182 0.90909091]\n"
     ]
    }
   ],
   "source": [
    "vector=np.linspace(0,1,12)[1:-1]\n",
    "print(vector)"
   ]
  },
  {
   "cell_type": "markdown",
   "id": "043156c5",
   "metadata": {},
   "source": [
    "#### 40. Create a random vector of size 10 and sort it (★★☆)"
   ]
  },
  {
   "cell_type": "code",
   "execution_count": 25,
   "id": "6ae5eb58",
   "metadata": {},
   "outputs": [
    {
     "name": "stdout",
     "output_type": "stream",
     "text": [
      "[0.61269824 0.08493378 0.77711132 0.76097472 0.41791963 0.12246842\n",
      " 0.587684   0.33473601 0.8481551  0.11980871]\n",
      "[0.08493378 0.11980871 0.12246842 0.33473601 0.41791963 0.587684\n",
      " 0.61269824 0.76097472 0.77711132 0.8481551 ]\n"
     ]
    }
   ],
   "source": [
    "ran_vec=np.random.rand(10)\n",
    "sort_vec=np.sort(ran_vec)\n",
    "print(ran_vec)\n",
    "print(sort_vec)"
   ]
  },
  {
   "cell_type": "markdown",
   "id": "4f7e8f3f",
   "metadata": {},
   "source": [
    "#### 41. How to sum a small array faster than np.sum? (★★☆)"
   ]
  },
  {
   "cell_type": "code",
   "execution_count": 26,
   "id": "88790af3",
   "metadata": {},
   "outputs": [
    {
     "name": "stdout",
     "output_type": "stream",
     "text": [
      "25\n"
     ]
    }
   ],
   "source": [
    "array=np.array([1,2,3,4,6,9])\n",
    "total=sum(array)\n",
    "print(total)"
   ]
  },
  {
   "cell_type": "markdown",
   "id": "13d1ca52",
   "metadata": {},
   "source": [
    "#### 42. Consider two random array A and B, check if they are equal (★★☆)"
   ]
  },
  {
   "cell_type": "code",
   "execution_count": 27,
   "id": "ca6dd579",
   "metadata": {},
   "outputs": [
    {
     "name": "stdout",
     "output_type": "stream",
     "text": [
      "False\n"
     ]
    }
   ],
   "source": [
    "A=np.random.rand(5)\n",
    "B=np.random.rand(5)\n",
    "equal=np.array_equal(A,B)\n",
    "print(equal)"
   ]
  },
  {
   "cell_type": "markdown",
   "id": "ba14189b",
   "metadata": {},
   "source": [
    "#### 43. Make an array immutable (read-only) (★★☆)"
   ]
  },
  {
   "cell_type": "code",
   "execution_count": 29,
   "id": "cbbb8917",
   "metadata": {},
   "outputs": [
    {
     "name": "stdout",
     "output_type": "stream",
     "text": [
      "[0.7589607  0.62700381 0.94045245 0.13907687 0.91598976]\n"
     ]
    },
    {
     "ename": "ValueError",
     "evalue": "assignment destination is read-only",
     "output_type": "error",
     "traceback": [
      "\u001b[1;31m---------------------------------------------------------------------------\u001b[0m",
      "\u001b[1;31mValueError\u001b[0m                                Traceback (most recent call last)",
      "Cell \u001b[1;32mIn[29], line 4\u001b[0m\n\u001b[0;32m      2\u001b[0m array\u001b[38;5;241m.\u001b[39mflags\u001b[38;5;241m.\u001b[39mwriteable\u001b[38;5;241m=\u001b[39m\u001b[38;5;28;01mFalse\u001b[39;00m\n\u001b[0;32m      3\u001b[0m \u001b[38;5;28mprint\u001b[39m(array)\n\u001b[1;32m----> 4\u001b[0m \u001b[43marray\u001b[49m\u001b[43m[\u001b[49m\u001b[38;5;241;43m0\u001b[39;49m\u001b[43m]\u001b[49m\u001b[38;5;241m=\u001b[39m\u001b[38;5;241m12\u001b[39m\n\u001b[0;32m      5\u001b[0m \u001b[38;5;28mprint\u001b[39m(array)\n",
      "\u001b[1;31mValueError\u001b[0m: assignment destination is read-only"
     ]
    }
   ],
   "source": [
    "array=np.random.rand(5)\n",
    "array.flags.writeable=False\n",
    "print(array)\n",
    "array[0]=12\n",
    "print(array)"
   ]
  },
  {
   "cell_type": "markdown",
   "id": "37b0828f",
   "metadata": {},
   "source": [
    "#### 44. Consider a random 10x2 matrix representing cartesian coordinates, convert them to polar coordinates (★★☆)"
   ]
  },
  {
   "cell_type": "code",
   "execution_count": 32,
   "id": "a89969af",
   "metadata": {},
   "outputs": [
    {
     "name": "stdout",
     "output_type": "stream",
     "text": [
      "[[0.20308802 7.24817524]\n",
      " [4.29232671 4.44270689]\n",
      " [0.49943845 8.50479531]\n",
      " [3.85855412 3.42659191]\n",
      " [1.56385305 7.52885893]\n",
      " [7.38794641 2.70689252]\n",
      " [0.70692137 8.23810872]\n",
      " [8.74582606 3.93057071]\n",
      " [0.3348835  5.72519811]\n",
      " [4.02638772 4.59199954]]\n",
      "\n",
      "\n",
      "[[10.25046773  1.54278446]\n",
      " [ 6.28293634  0.80261222]\n",
      " [12.02759687  1.51213936]\n",
      " [ 4.84593275  0.72617395]\n",
      " [10.64741441  1.36599412]\n",
      " [ 3.82812412  0.35120362]\n",
      " [11.65044508  1.4851949 ]\n",
      " [ 5.55866641  0.42237354]\n",
      " [ 8.09665281  1.51236999]\n",
      " [ 6.49406803  0.85093268]]\n"
     ]
    }
   ],
   "source": [
    "cartesian=np.random.rand(10,2)*10\n",
    "r=np.sqrt(cartesian[:,1]**2+ cartesian[:,1]**2)\n",
    "theta=np.arctan2(cartesian[:,1],cartesian[:,0])\n",
    "polar=np.column_stack((r,theta))\n",
    "print(cartesian)\n",
    "print(\"\\n\")\n",
    "print(polar)"
   ]
  },
  {
   "cell_type": "markdown",
   "id": "b7d7dd80",
   "metadata": {},
   "source": [
    "#### 45. Create random vector of size 10 and replace the maximum value by 0 (★★☆)"
   ]
  },
  {
   "cell_type": "code",
   "execution_count": 36,
   "id": "8403a440",
   "metadata": {},
   "outputs": [
    {
     "name": "stdout",
     "output_type": "stream",
     "text": [
      "[0.79473431 0.83329284 0.46603401 0.10218503 0.89998502 0.15872038\n",
      " 0.32580359 0.18910771 0.         0.95008924]\n"
     ]
    }
   ],
   "source": [
    "ran_vec=np.random.rand(10)\n",
    "max_index=np.argmax(ran_vec)\n",
    "ran_vec[max_index]=0\n",
    "print(ran_vec)"
   ]
  },
  {
   "cell_type": "markdown",
   "id": "b47e5837",
   "metadata": {},
   "source": [
    "#### 46. Create a structured array with `x` and `y` coordinates covering the [0,1]x[0,1] area (★★☆)"
   ]
  },
  {
   "cell_type": "code",
   "execution_count": 37,
   "id": "42c72e94",
   "metadata": {},
   "outputs": [
    {
     "name": "stdout",
     "output_type": "stream",
     "text": [
      "[[(0.  , 0.  ) (0.25, 0.  ) (0.5 , 0.  ) (0.75, 0.  ) (1.  , 0.  )]\n",
      " [(0.  , 0.25) (0.25, 0.25) (0.5 , 0.25) (0.75, 0.25) (1.  , 0.25)]\n",
      " [(0.  , 0.5 ) (0.25, 0.5 ) (0.5 , 0.5 ) (0.75, 0.5 ) (1.  , 0.5 )]\n",
      " [(0.  , 0.75) (0.25, 0.75) (0.5 , 0.75) (0.75, 0.75) (1.  , 0.75)]\n",
      " [(0.  , 1.  ) (0.25, 1.  ) (0.5 , 1.  ) (0.75, 1.  ) (1.  , 1.  )]]\n"
     ]
    }
   ],
   "source": [
    "import numpy as np\n",
    "dtype=[('x',float),('y',float)]\n",
    "x=np.linspace(0,1,5)\n",
    "y=np.linspace(0,1,5)\n",
    "x,y=np.meshgrid(x,y)\n",
    "structured_array=np.zeros(x.shape,dtype=dtype)\n",
    "structured_array['x']=x\n",
    "structured_array['y']=y\n",
    "print(structured_array)"
   ]
  },
  {
   "cell_type": "markdown",
   "id": "8c7946ee",
   "metadata": {},
   "source": [
    "#### 47. Given two arrays, X and Y, construct the Cauchy matrix C (Cij =1/(xi - yj)) (★★☆)"
   ]
  },
  {
   "cell_type": "code",
   "execution_count": 41,
   "id": "26b93f06",
   "metadata": {},
   "outputs": [
    {
     "name": "stdout",
     "output_type": "stream",
     "text": [
      "Array X: [0.01269291 0.60077403 0.31081303 0.898206   0.69243637]\n",
      "Array Y: [0.8215778  0.2222971  0.65921311 0.73171484 0.17193732]\n",
      "Cauchy Matrix C:\n",
      "[[ -1.23626985  -4.77089699  -1.54674208  -1.39077815  -6.27965505]\n",
      " [ -4.52890828   2.64216894 -17.1118381   -7.63703831   2.33188992]\n",
      " [ -1.95784843  11.29740143  -2.87026341  -2.375851     7.20068353]\n",
      " [ 13.05002557   1.47948932   4.18422486   6.00632507   1.37690091]\n",
      " [ -7.74344883   2.12702926  30.09938814 -25.45924007   1.92123309]]\n"
     ]
    }
   ],
   "source": [
    "X=np.random.rand(5)\n",
    "Y=np.random.rand(5)\n",
    "\n",
    "C=1/(X[:,None]-Y[None,:])\n",
    "print(\"Array X:\", X)\n",
    "print(\"Array Y:\", Y)\n",
    "print(\"Cauchy Matrix C:\")\n",
    "print(C)"
   ]
  },
  {
   "cell_type": "markdown",
   "id": "3e898e5f",
   "metadata": {},
   "source": [
    "#### 48. Print the minimum and maximum representable value for each numpy scalar type (★★☆)"
   ]
  },
  {
   "cell_type": "code",
   "execution_count": 8,
   "id": "afd1ae18",
   "metadata": {},
   "outputs": [
    {
     "name": "stdout",
     "output_type": "stream",
     "text": [
      "integer types\n",
      "int8-min:-128,max:127\n",
      "\n",
      "float_point types:\n",
      "float16-min:-65504.0,max:65504.0\n",
      "float32-min:-3.4028234663852886e+38,max:3.4028234663852886e+38\n",
      "float64-min:-1.7976931348623157e+308,max:1.7976931348623157e+308\n",
      "int16-min:-32768,max:32767\n",
      "\n",
      "float_point types:\n",
      "float16-min:-65504.0,max:65504.0\n",
      "float32-min:-3.4028234663852886e+38,max:3.4028234663852886e+38\n",
      "float64-min:-1.7976931348623157e+308,max:1.7976931348623157e+308\n",
      "int32-min:-2147483648,max:2147483647\n",
      "\n",
      "float_point types:\n",
      "float16-min:-65504.0,max:65504.0\n",
      "float32-min:-3.4028234663852886e+38,max:3.4028234663852886e+38\n",
      "float64-min:-1.7976931348623157e+308,max:1.7976931348623157e+308\n",
      "int64-min:-9223372036854775808,max:9223372036854775807\n",
      "\n",
      "float_point types:\n",
      "float16-min:-65504.0,max:65504.0\n",
      "float32-min:-3.4028234663852886e+38,max:3.4028234663852886e+38\n",
      "float64-min:-1.7976931348623157e+308,max:1.7976931348623157e+308\n",
      "uint16-min:0,max:65535\n",
      "\n",
      "float_point types:\n",
      "float16-min:-65504.0,max:65504.0\n",
      "float32-min:-3.4028234663852886e+38,max:3.4028234663852886e+38\n",
      "float64-min:-1.7976931348623157e+308,max:1.7976931348623157e+308\n",
      "uint32-min:0,max:4294967295\n",
      "\n",
      "float_point types:\n",
      "float16-min:-65504.0,max:65504.0\n",
      "float32-min:-3.4028234663852886e+38,max:3.4028234663852886e+38\n",
      "float64-min:-1.7976931348623157e+308,max:1.7976931348623157e+308\n",
      "uint64-min:0,max:18446744073709551615\n",
      "\n",
      "float_point types:\n",
      "float16-min:-65504.0,max:65504.0\n",
      "float32-min:-3.4028234663852886e+38,max:3.4028234663852886e+38\n",
      "float64-min:-1.7976931348623157e+308,max:1.7976931348623157e+308\n"
     ]
    }
   ],
   "source": [
    "import numpy as np\n",
    "print(\"integer types\")\n",
    "for dtype in [np.int8,np.int16,np.int32,np.int64,np.uint16,np.uint32,np.uint64] :\n",
    "    info =np.iinfo(dtype)\n",
    "    print(f\"{dtype.__name__}-min:{info.min},max:{info.max}\")\n",
    "    print(\"\\nfloat_point types:\")\n",
    "    for dtype in [np.float16,np.float32,np.float64] :\n",
    "        info =np.finfo(dtype)\n",
    "        print(f\"{dtype.__name__}-min:{info.min},max:{info.max}\")"
   ]
  },
  {
   "cell_type": "markdown",
   "id": "6fe6133b",
   "metadata": {},
   "source": [
    "#### 49. How to print all the values of an array? (★★☆)"
   ]
  },
  {
   "cell_type": "code",
   "execution_count": 14,
   "id": "5764ec92",
   "metadata": {},
   "outputs": [
    {
     "name": "stdout",
     "output_type": "stream",
     "text": [
      "[[ 0  1  2  3  4  5  6  7  8]\n",
      " [ 9 10 11 12 13 14 15 16 17]\n",
      " [18 19 20 21 22 23 24 25 26]\n",
      " [27 28 29 30 31 32 33 34 35]\n",
      " [36 37 38 39 40 41 42 43 44]\n",
      " [45 46 47 48 49 50 51 52 53]\n",
      " [54 55 56 57 58 59 60 61 62]\n",
      " [63 64 65 66 67 68 69 70 71]\n",
      " [72 73 74 75 76 77 78 79 80]]\n"
     ]
    }
   ],
   "source": [
    "arr=np.arange(81).reshape(9,9)\n",
    "\n",
    "print(arr)"
   ]
  },
  {
   "cell_type": "markdown",
   "id": "7ee2dacc",
   "metadata": {},
   "source": [
    "#### 50. How to find the closest value (to a given scalar) in a vector? (★★☆)\n"
   ]
  },
  {
   "cell_type": "code",
   "execution_count": 4,
   "id": "742518ef",
   "metadata": {},
   "outputs": [
    {
     "name": "stdout",
     "output_type": "stream",
     "text": [
      "15\n"
     ]
    }
   ],
   "source": [
    "import numpy as np\n",
    "#### 50. How to find the closest value (to a given scalar) in a vector? (★★☆)\n",
    "vector = np.array([1, 3, 8, 15, 20])\n",
    "scalar = 15\n",
    "index=np.abs(vector-scalar).argmin()\n",
    "closest_value=vector[index]\n",
    "print(closest_value)"
   ]
  },
  {
   "cell_type": "markdown",
   "id": "cfeda6ba",
   "metadata": {},
   "source": [
    "#### 51. Create a structured array representing a position (x,y) and a color (r,g,b) (★★☆)"
   ]
  },
  {
   "cell_type": "code",
   "execution_count": 7,
   "id": "9fcbd031",
   "metadata": {},
   "outputs": [
    {
     "name": "stdout",
     "output_type": "stream",
     "text": [
      "[((0., 1.), (255,   0,   0)) ((1., 2.), (  0, 255,   0))\n",
      " ((2., 3.), (  0,   0, 255)) ((0., 0.), (  0,   0,   0))\n",
      " ((0., 0.), (  0,   0,   0))]\n"
     ]
    }
   ],
   "source": [
    "import numpy as np\n",
    "dtype = [('position', [('x', 'f4'), ('y', 'f4')]), \n",
    "         ('color', [('r', 'u1'), ('g', 'u1'), ('b', 'u1')])]\n",
    "\n",
    "array=np.zeros(5,dtype=dtype)\n",
    "array[0]=((0.0,1.0),(255,0,0))\n",
    "array[1]=((1.0,2.0),(0,255,0))\n",
    "array[2]=((2.0,3.0),(0,0,255))\n",
    "print(array)"
   ]
  },
  {
   "cell_type": "markdown",
   "id": "b97e75b5",
   "metadata": {},
   "source": [
    "#### 52. Consider a random vector with shape (100,2) representing coordinates, find point by point distances (★★☆)"
   ]
  },
  {
   "cell_type": "code",
   "execution_count": 8,
   "id": "c58a45b6",
   "metadata": {},
   "outputs": [
    {
     "name": "stdout",
     "output_type": "stream",
     "text": [
      "Pairwise distances:\n",
      "[[0.         0.39925019 0.47656464 ... 0.07439348 0.48669907 0.2815025 ]\n",
      " [0.39925019 0.         0.65936117 ... 0.47359354 0.18249347 0.67215205]\n",
      " [0.47656464 0.65936117 0.         ... 0.47589707 0.8266411  0.59885142]\n",
      " ...\n",
      " [0.07439348 0.47359354 0.47589707 ... 0.         0.55583784 0.21109785]\n",
      " [0.48669907 0.18249347 0.8266411  ... 0.55583784 0.         0.72643106]\n",
      " [0.2815025  0.67215205 0.59885142 ... 0.21109785 0.72643106 0.        ]]\n"
     ]
    }
   ],
   "source": [
    "\n",
    "import numpy as np\n",
    "from scipy.spatial.distance import cdist\n",
    "\n",
    "# Create a random vector with shape (100, 2)\n",
    "random_vector = np.random.rand(100, 2)\n",
    "\n",
    "# Calculate the distances between all pairs of points\n",
    "distances = cdist(random_vector, random_vector)\n",
    "\n",
    "# Print the distance matrix\n",
    "print(\"Pairwise distances:\")\n",
    "print(distances)\n"
   ]
  },
  {
   "cell_type": "markdown",
   "id": "291e0bb9",
   "metadata": {},
   "source": [
    "#### 53. How to convert a float (32 bits) array into an integer (32 bits) in place?"
   ]
  },
  {
   "cell_type": "code",
   "execution_count": 11,
   "id": "2f3e6c00",
   "metadata": {},
   "outputs": [
    {
     "name": "stdout",
     "output_type": "stream",
     "text": [
      "[1. 2. 3. 4.]\n"
     ]
    }
   ],
   "source": [
    "float_array=np.array([1.1,2.2,3.3,4.4],dtype=np.float32)\n",
    "float_array[:]=float_array.astype(np.int32)\n",
    "print(float_array)"
   ]
  },
  {
   "cell_type": "markdown",
   "id": "1e305e92",
   "metadata": {},
   "source": [
    "#### 54. How to read the following file? (★★☆)\n",
    "```\n",
    "1, 2, 3, 4, 5\n",
    "6,  ,  , 7, 8\n",
    " ,  , 9,10,11\n",
    "```"
   ]
  },
  {
   "cell_type": "code",
   "execution_count": null,
   "id": "753024cb",
   "metadata": {},
   "outputs": [],
   "source": []
  },
  {
   "cell_type": "markdown",
   "id": "94a8ad69",
   "metadata": {},
   "source": [
    "#### 55. What is the equivalent of enumerate for numpy arrays? (★★☆)"
   ]
  },
  {
   "cell_type": "code",
   "execution_count": 1,
   "id": "ae45249f",
   "metadata": {},
   "outputs": [
    {
     "name": "stdout",
     "output_type": "stream",
     "text": [
      "Index: (0, 0), Value: 1\n",
      "Index: (0, 1), Value: 2\n",
      "Index: (0, 2), Value: 3\n",
      "Index: (1, 0), Value: 4\n",
      "Index: (1, 1), Value: 5\n",
      "Index: (1, 2), Value: 6\n"
     ]
    }
   ],
   "source": [
    "import numpy as np\n",
    "\n",
    "# Create a NumPy array\n",
    "array = np.array([[1, 2, 3], [4, 5, 6]])\n",
    "\n",
    "# Use ndenumerate to iterate with indices and values\n",
    "for index, value in np.ndenumerate(array):\n",
    "    print(f\"Index: {index}, Value: {value}\")\n"
   ]
  },
  {
   "cell_type": "markdown",
   "id": "72b340c9",
   "metadata": {},
   "source": [
    "#### 56. Generate a generic 2D Gaussian-like array (★★☆)"
   ]
  },
  {
   "cell_type": "code",
   "execution_count": 2,
   "id": "a80e5c9b",
   "metadata": {},
   "outputs": [
    {
     "name": "stdout",
     "output_type": "stream",
     "text": [
      "[[0.02324684 0.03382395 0.03832756 0.03382395 0.02324684]\n",
      " [0.03382395 0.04921356 0.05576627 0.04921356 0.03382395]\n",
      " [0.03832756 0.05576627 0.06319146 0.05576627 0.03832756]\n",
      " [0.03382395 0.04921356 0.05576627 0.04921356 0.03382395]\n",
      " [0.02324684 0.03382395 0.03832756 0.03382395 0.02324684]]\n"
     ]
    }
   ],
   "source": [
    "import numpy as np\n",
    "\n",
    "# Define the size of the array and standard deviation\n",
    "size = 5  # e.g., a 5x5 array\n",
    "sigma = 1.0  # Standard deviation of the Gaussian\n",
    "\n",
    "# Create the coordinate grid\n",
    "x, y = np.meshgrid(np.linspace(-1, 1, size), np.linspace(-1, 1, size))\n",
    "\n",
    "# Compute the 2D Gaussian-like values\n",
    "gaussian = np.exp(-(x**2 + y**2) / (2 * sigma**2))\n",
    "\n",
    "# Normalize the array (optional)\n",
    "gaussian /= gaussian.sum()\n",
    "\n",
    "print(gaussian)\n"
   ]
  },
  {
   "cell_type": "markdown",
   "id": "86550d61",
   "metadata": {},
   "source": [
    "#### 57. How to randomly place p elements in a 2D array? (★★☆)"
   ]
  },
  {
   "cell_type": "code",
   "execution_count": 3,
   "id": "db9f2582",
   "metadata": {},
   "outputs": [
    {
     "name": "stdout",
     "output_type": "stream",
     "text": [
      "[[0 0 0 0 0]\n",
      " [1 0 0 0 0]\n",
      " [0 1 0 1 1]\n",
      " [0 0 1 0 0]\n",
      " [0 0 0 0 0]]\n"
     ]
    }
   ],
   "source": [
    "import numpy as np\n",
    "\n",
    "# Define the size of the array and the number of elements to place\n",
    "rows, cols = 5, 5  # Size of the 2D array (e.g., 5x5)\n",
    "p = 5  # Number of elements to randomly place\n",
    "\n",
    "# Create an empty array filled with zeros\n",
    "array = np.zeros((rows, cols), dtype=int)\n",
    "\n",
    "# Generate random unique positions for the p elements\n",
    "indices = np.random.choice(rows * cols, p, replace=False)\n",
    "\n",
    "# Place the elements in the array\n",
    "for index in indices:\n",
    "    x, y = divmod(index, cols)\n",
    "    array[x, y] = 1  # You can replace 1 with the desired value\n",
    "\n",
    "print(array)\n"
   ]
  },
  {
   "cell_type": "markdown",
   "id": "153f8cfa",
   "metadata": {},
   "source": [
    "#### 58. Subtract the mean of each row of a matrix (★★☆)"
   ]
  },
  {
   "cell_type": "code",
   "execution_count": 4,
   "id": "8301cb12",
   "metadata": {},
   "outputs": [
    {
     "name": "stdout",
     "output_type": "stream",
     "text": [
      "[[-1.  0.  1.]\n",
      " [-1.  0.  1.]\n",
      " [-1.  0.  1.]]\n"
     ]
    }
   ],
   "source": [
    "import numpy as np\n",
    "\n",
    "# Create a sample matrix\n",
    "matrix = np.array([[1, 2, 3],\n",
    "                   [4, 5, 6],\n",
    "                   [7, 8, 9]])\n",
    "\n",
    "# Subtract the mean of each row\n",
    "row_means = matrix.mean(axis=1, keepdims=True)  # Compute the mean for each row\n",
    "result = matrix - row_means  # Subtract the mean from each row\n",
    "\n",
    "print(result)\n"
   ]
  },
  {
   "cell_type": "markdown",
   "id": "f4038090",
   "metadata": {},
   "source": [
    "#### 59. How to sort an array by the nth column? (★★☆)"
   ]
  },
  {
   "cell_type": "code",
   "execution_count": 5,
   "id": "eb5745df",
   "metadata": {},
   "outputs": [
    {
     "name": "stdout",
     "output_type": "stream",
     "text": [
      "Original array:\n",
      "[[4 2 7]\n",
      " [1 5 6]\n",
      " [9 0 8]]\n",
      "\n",
      "Sorted array by column 2 :\n",
      "[[9 0 8]\n",
      " [4 2 7]\n",
      " [1 5 6]]\n"
     ]
    }
   ],
   "source": [
    "import numpy as np\n",
    "\n",
    "# Create a sample array\n",
    "array = np.array([[4, 2, 7],\n",
    "                  [1, 5, 6],\n",
    "                  [9, 0, 8]])\n",
    "\n",
    "# Specify the column index (nth column, e.g., n=1 for the second column)\n",
    "n = 1\n",
    "\n",
    "# Sort the array by the nth column\n",
    "sorted_array = array[array[:, n].argsort()]\n",
    "\n",
    "print(\"Original array:\")\n",
    "print(array)\n",
    "print(\"\\nSorted array by column\", n + 1, \":\")\n",
    "print(sorted_array)\n",
    "\n"
   ]
  },
  {
   "cell_type": "markdown",
   "id": "20d2a462",
   "metadata": {},
   "source": [
    "#### 60. How to tell if a given 2D array has null columns? (★★☆)"
   ]
  },
  {
   "cell_type": "code",
   "execution_count": 6,
   "id": "b92b7316",
   "metadata": {},
   "outputs": [
    {
     "name": "stdout",
     "output_type": "stream",
     "text": [
      "Null columns: [ True False  True]\n",
      "Has null columns: True\n"
     ]
    }
   ],
   "source": [
    "import numpy as np\n",
    "\n",
    "# Example 2D array\n",
    "array = np.array([[0, 1, 0],\n",
    "                  [0, 0, 0],\n",
    "                  [0, 3, 0]])\n",
    "\n",
    "# Check for null (all-zero) columns\n",
    "null_columns = np.all(array == 0, axis=0)\n",
    "\n",
    "# Identify which columns are null\n",
    "has_null_columns = np.any(null_columns)\n",
    "\n",
    "print(\"Null columns:\", null_columns)\n",
    "print(\"Has null columns:\", has_null_columns)\n"
   ]
  },
  {
   "cell_type": "markdown",
   "id": "bb2aa49b",
   "metadata": {},
   "source": [
    "#### 61. Find the nearest value from a given value in an array (★★☆)"
   ]
  },
  {
   "cell_type": "code",
   "execution_count": 7,
   "id": "8b62e59c",
   "metadata": {},
   "outputs": [
    {
     "name": "stdout",
     "output_type": "stream",
     "text": [
      "Nearest value to 33 is 30\n"
     ]
    }
   ],
   "source": [
    "import numpy as np\n",
    "\n",
    "# Example array and target value\n",
    "array = np.array([10, 20, 30, 40, 50])\n",
    "target = 33\n",
    "\n",
    "# Find the nearest value\n",
    "nearest_value = array[np.abs(array - target).argmin()]\n",
    "\n",
    "print(\"Nearest value to\", target, \"is\", nearest_value)\n"
   ]
  },
  {
   "cell_type": "markdown",
   "id": "1a950e1a",
   "metadata": {},
   "source": [
    "#### 62. Considering two arrays with shape (1,3) and (3,1), how to compute their sum using an iterator? (★★☆)"
   ]
  },
  {
   "cell_type": "code",
   "execution_count": 8,
   "id": "cad1d01b",
   "metadata": {},
   "outputs": [
    {
     "name": "stdout",
     "output_type": "stream",
     "text": [
      "Result:\n",
      "[[5 6 7]\n",
      " [6 7 8]\n",
      " [7 8 9]]\n"
     ]
    }
   ],
   "source": [
    "import numpy as np\n",
    "\n",
    "# Define the two arrays\n",
    "array1 = np.array([[1, 2, 3]])  # Shape (1, 3)\n",
    "array2 = np.array([[4], [5], [6]])  # Shape (3, 1)\n",
    "\n",
    "# Create an iterator for the sum\n",
    "it = np.nditer([array1, array2, None])  # Prepare output buffer as `None`\n",
    "\n",
    "# Iterate and compute the sum\n",
    "for a, b, c in it:\n",
    "    c[...] = a + b  # Perform element-wise addition\n",
    "\n",
    "# Get the result array\n",
    "result = it.operands[2]\n",
    "\n",
    "print(\"Result:\")\n",
    "print(result)\n"
   ]
  },
  {
   "cell_type": "markdown",
   "id": "165b3a20",
   "metadata": {},
   "source": [
    "#### 63. Create an array class that has a name attribute (★★☆)"
   ]
  },
  {
   "cell_type": "code",
   "execution_count": null,
   "id": "666bf983",
   "metadata": {},
   "outputs": [],
   "source": []
  },
  {
   "cell_type": "markdown",
   "id": "87f85b12",
   "metadata": {},
   "source": [
    "#### 64. Consider a given vector, how to add 1 to each element indexed by a second vector (be careful with repeated indices)? (★★★)"
   ]
  },
  {
   "cell_type": "code",
   "execution_count": 9,
   "id": "03ee4c88",
   "metadata": {},
   "outputs": [
    {
     "name": "stdout",
     "output_type": "stream",
     "text": [
      "[[1 2 3]\n",
      " [4 5 6]]\n",
      "Array Name: MyArray\n"
     ]
    }
   ],
   "source": [
    "import numpy as np\n",
    "\n",
    "class NamedArray(np.ndarray):\n",
    "    def __new__(cls, input_array, name=\"Unnamed\"):\n",
    "        # Create an instance of the subclass\n",
    "        obj = np.asarray(input_array).view(cls)\n",
    "        # Add the new attribute\n",
    "        obj.name = name\n",
    "        return obj\n",
    "\n",
    "    def __array_finalize__(self, obj):\n",
    "        if obj is None:\n",
    "            return\n",
    "        # Ensure the `name` attribute is inherited\n",
    "        self.name = getattr(obj, 'name', \"Unnamed\")\n",
    "\n",
    "# Example usage\n",
    "data = np.array([[1, 2, 3], [4, 5, 6]])\n",
    "named_array = NamedArray(data, name=\"MyArray\")\n",
    "\n",
    "print(named_array)\n",
    "print(\"Array Name:\", named_array.name)\n"
   ]
  },
  {
   "cell_type": "markdown",
   "id": "1cda27c4",
   "metadata": {},
   "source": [
    "#### 65. How to accumulate elements of a vector (X) to an array (F) based on an index list (I)? (★★★)"
   ]
  },
  {
   "cell_type": "code",
   "execution_count": 10,
   "id": "aee2c782",
   "metadata": {},
   "outputs": [
    {
     "name": "stdout",
     "output_type": "stream",
     "text": [
      "Accumulated array F: [4. 6. 5.]\n"
     ]
    }
   ],
   "source": [
    "import numpy as np\n",
    "\n",
    "# Define the input vector X, index list I, and the target array F\n",
    "X = np.array([1, 2, 3, 4, 5])  # Vector to accumulate values from\n",
    "I = np.array([0, 1, 0, 1, 2])  # Index list\n",
    "F = np.zeros(3)  # Target array initialized with zeros\n",
    "\n",
    "# Accumulate values from X into F based on indices in I\n",
    "np.add.at(F, I, X)\n",
    "\n",
    "print(\"Accumulated array F:\", F)\n"
   ]
  },
  {
   "cell_type": "markdown",
   "id": "1db205db",
   "metadata": {},
   "source": [
    "#### 66. Considering a (w,h,3) image of (dtype=ubyte), compute the number of unique colors (★★☆)"
   ]
  },
  {
   "cell_type": "code",
   "execution_count": 11,
   "id": "43204f35",
   "metadata": {},
   "outputs": [
    {
     "name": "stdout",
     "output_type": "stream",
     "text": [
      "Accumulated array F: [4. 6. 5.]\n"
     ]
    }
   ],
   "source": [
    "import numpy as np\n",
    "\n",
    "# Define the input vector X, index list I, and the target array F\n",
    "X = np.array([1, 2, 3, 4, 5])  # Vector to accumulate values from\n",
    "I = np.array([0, 1, 0, 1, 2])  # Index list\n",
    "F = np.zeros(3)  # Target array initialized with zeros\n",
    "\n",
    "# Accumulate values from X into F based on indices in I\n",
    "np.add.at(F, I, X)\n",
    "\n",
    "print(\"Accumulated array F:\", F)\n",
    "\n"
   ]
  },
  {
   "cell_type": "markdown",
   "id": "ebaf1222",
   "metadata": {},
   "source": [
    "#### 67. Considering a four dimensions array, how to get sum over the last two axis at once? (★★★)"
   ]
  },
  {
   "cell_type": "code",
   "execution_count": 12,
   "id": "aabbbab9",
   "metadata": {},
   "outputs": [
    {
     "name": "stdout",
     "output_type": "stream",
     "text": [
      "Number of unique colors: 16\n"
     ]
    }
   ],
   "source": [
    "import numpy as np\n",
    "\n",
    "# Example image of shape (w, h, 3) with dtype=ubyte\n",
    "w, h = 4, 4  # Dimensions of the image\n",
    "image = np.random.randint(0, 256, (w, h, 3), dtype=np.uint8)  # Random image\n",
    "\n",
    "# Reshape the image into a 2D array where each row is a color (R, G, B)\n",
    "flattened_image = image.reshape(-1, 3)\n",
    "\n",
    "# Find unique rows (unique colors) and count them\n",
    "unique_colors = np.unique(flattened_image, axis=0)\n",
    "num_unique_colors = unique_colors.shape[0]\n",
    "\n",
    "print(\"Number of unique colors:\", num_unique_colors)\n",
    "\n"
   ]
  },
  {
   "cell_type": "markdown",
   "id": "2dfb4033",
   "metadata": {},
   "source": [
    "#### 68. Considering a one-dimensional vector D, how to compute means of subsets of D using a vector S of same size describing subset  indices? (★★★)"
   ]
  },
  {
   "cell_type": "code",
   "execution_count": 13,
   "id": "7a9c2287",
   "metadata": {},
   "outputs": [
    {
     "name": "stdout",
     "output_type": "stream",
     "text": [
      "Shape of original array: (2, 3, 4, 5)\n",
      "Shape after summing over the last two axes: (2, 3)\n",
      "Result:\n",
      " [[11.66610285 10.93558182  8.11038425]\n",
      " [11.58505208 10.13343171 11.08426587]]\n"
     ]
    }
   ],
   "source": [
    "import numpy as np\n",
    "\n",
    "# Create a sample 4D array\n",
    "array = np.random.rand(2, 3, 4, 5)  # Shape: (2, 3, 4, 5)\n",
    "\n",
    "# Sum over the last two axes (axis 2 and 3)\n",
    "result = array.sum(axis=(-2, -1))\n",
    "\n",
    "print(\"Shape of original array:\", array.shape)\n",
    "print(\"Shape after summing over the last two axes:\", result.shape)\n",
    "print(\"Result:\\n\", result)\n"
   ]
  },
  {
   "cell_type": "markdown",
   "id": "7035c626",
   "metadata": {},
   "source": [
    "#### 69. How to get the diagonal of a dot product? (★★★)"
   ]
  },
  {
   "cell_type": "code",
   "execution_count": 14,
   "id": "f6af16c1",
   "metadata": {},
   "outputs": [
    {
     "name": "stdout",
     "output_type": "stream",
     "text": [
      "Subset means: [2.  3.  5.5]\n"
     ]
    }
   ],
   "source": [
    "import numpy as np\n",
    "\n",
    "# Define the vector D and the subset indices S\n",
    "D = np.array([1, 2, 3, 4, 5, 6])  # Data vector\n",
    "S = np.array([0, 1, 0, 1, 2, 2])  # Subset indices\n",
    "\n",
    "# Compute the sums of subsets using np.bincount\n",
    "subset_sums = np.bincount(S, weights=D)\n",
    "\n",
    "# Compute the counts of elements in each subset\n",
    "subset_counts = np.bincount(S)\n",
    "\n",
    "# Compute the means of subsets\n",
    "subset_means = subset_sums / subset_counts\n",
    "\n",
    "print(\"Subset means:\", subset_means)\n"
   ]
  },
  {
   "cell_type": "markdown",
   "id": "8f73f0e5",
   "metadata": {},
   "source": [
    "#### 70. Consider the vector [1, 2, 3, 4, 5], how to build a new vector with 3 consecutive zeros interleaved between each value? (★★★)"
   ]
  },
  {
   "cell_type": "code",
   "execution_count": 15,
   "id": "b0cabc11",
   "metadata": {},
   "outputs": [
    {
     "name": "stdout",
     "output_type": "stream",
     "text": [
      "New vector with interleaved zeros:\n",
      "[1 0 0 0 2 0 0 0 3 0 0 0 4 0 0 0 5]\n"
     ]
    }
   ],
   "source": [
    "import numpy as np\n",
    "\n",
    "# Original vector\n",
    "original_vector = np.array([1, 2, 3, 4, 5])\n",
    "\n",
    "# Define the new size considering 3 zeros between each element\n",
    "new_size = len(original_vector) * 4 - 3  # Each element + 3 zeros\n",
    "\n",
    "# Create a new array filled with zeros\n",
    "new_vector = np.zeros(new_size, dtype=int)\n",
    "\n",
    "# Assign original values to every 4th position\n",
    "new_vector[::4] = original_vector\n",
    "\n",
    "print(\"New vector with interleaved zeros:\")\n",
    "print(new_vector)\n"
   ]
  },
  {
   "cell_type": "markdown",
   "id": "bafaa79e",
   "metadata": {},
   "source": [
    "#### 71. Consider an array of dimension (5,5,3), how to mulitply it by an array with dimensions (5,5)? (★★★)"
   ]
  },
  {
   "cell_type": "code",
   "execution_count": 16,
   "id": "d441e30b",
   "metadata": {},
   "outputs": [
    {
     "name": "stdout",
     "output_type": "stream",
     "text": [
      "Resulting array shape: (5, 5, 3)\n"
     ]
    }
   ],
   "source": [
    "import numpy as np\n",
    "\n",
    "# Example arrays\n",
    "array1 = np.random.rand(5, 5, 3)  # Shape (5, 5, 3)\n",
    "array2 = np.random.rand(5, 5)  # Shape (5, 5)\n",
    "\n",
    "# Reshape array2 to broadcast along the last dimension of array1\n",
    "result = array1 * array2[:, :, np.newaxis]\n",
    "\n",
    "print(\"Resulting array shape:\", result.shape)\n"
   ]
  },
  {
   "cell_type": "markdown",
   "id": "80a9ac82",
   "metadata": {},
   "source": [
    "#### 72. How to swap two rows of an array? (★★★)"
   ]
  },
  {
   "cell_type": "code",
   "execution_count": 17,
   "id": "1aee2791",
   "metadata": {},
   "outputs": [
    {
     "name": "stdout",
     "output_type": "stream",
     "text": [
      "Array after swapping rows:\n",
      "[[7 8 9]\n",
      " [4 5 6]\n",
      " [1 2 3]]\n"
     ]
    }
   ],
   "source": [
    "import numpy as np\n",
    "\n",
    "# Example 2D array\n",
    "array = np.array([[1, 2, 3],\n",
    "                  [4, 5, 6],\n",
    "                  [7, 8, 9]])\n",
    "\n",
    "# Swap row 0 (first row) and row 2 (third row)\n",
    "array[[0, 2]] = array[[2, 0]]\n",
    "\n",
    "print(\"Array after swapping rows:\")\n",
    "print(array)\n",
    "\n",
    "\n"
   ]
  },
  {
   "cell_type": "markdown",
   "id": "5e53d68c",
   "metadata": {},
   "source": [
    "#### 73. Consider a set of 10 triplets describing 10 triangles (with shared vertices), find the set of unique line segments composing all the  triangles (★★★)"
   ]
  },
  {
   "cell_type": "code",
   "execution_count": 18,
   "id": "2f975322",
   "metadata": {},
   "outputs": [
    {
     "name": "stdout",
     "output_type": "stream",
     "text": [
      "Unique line segments composing all triangles:\n",
      "{(np.int64(3), np.int64(4)), (np.int64(0), np.int64(2)), (np.int64(8), np.int64(9)), (np.int64(0), np.int64(5)), (np.int64(5), np.int64(6)), (np.int64(4), np.int64(8)), (np.int64(5), np.int64(9)), (np.int64(0), np.int64(1)), (np.int64(2), np.int64(4)), (np.int64(1), np.int64(2)), (np.int64(1), np.int64(5)), (np.int64(7), np.int64(9)), (np.int64(4), np.int64(7)), (np.int64(0), np.int64(3)), (np.int64(1), np.int64(4)), (np.int64(0), np.int64(6)), (np.int64(2), np.int64(3)), (np.int64(1), np.int64(7)), (np.int64(6), np.int64(9)), (np.int64(7), np.int64(8))}\n"
     ]
    }
   ],
   "source": [
    "import numpy as np\n",
    "\n",
    "# Example set of triplets describing 10 triangles (each triplet defines a triangle)\n",
    "triplets = np.array([\n",
    "    [0, 1, 2],\n",
    "    [0, 2, 3],\n",
    "    [1, 2, 4],\n",
    "    [2, 3, 4],\n",
    "    [0, 1, 5],\n",
    "    [0, 5, 6],\n",
    "    [1, 4, 7],\n",
    "    [4, 7, 8],\n",
    "    [6, 5, 9],\n",
    "    [9, 7, 8]\n",
    "])\n",
    "\n",
    "# Find all edges (line segments) from the triangles\n",
    "edges = []\n",
    "for triplet in triplets:\n",
    "    edges.append(tuple(sorted([triplet[0], triplet[1]])))\n",
    "    edges.append(tuple(sorted([triplet[1], triplet[2]])))\n",
    "    edges.append(tuple(sorted([triplet[2], triplet[0]])))\n",
    "\n",
    "# Use a set to find unique edges\n",
    "unique_edges = set(edges)\n",
    "\n",
    "print(\"Unique line segments composing all triangles:\")\n",
    "print(unique_edges)\n"
   ]
  },
  {
   "cell_type": "markdown",
   "id": "f85da603",
   "metadata": {},
   "source": [
    "#### 74. Given a sorted array C that corresponds to a bincount, how to produce an array A such that np.bincount(A) == C? (★★★)"
   ]
  },
  {
   "cell_type": "code",
   "execution_count": 19,
   "id": "8c476a73",
   "metadata": {},
   "outputs": [
    {
     "name": "stdout",
     "output_type": "stream",
     "text": [
      "Array A: [0 0 1 1 1 3]\n",
      "Bincount of A: [2 3 0 1]\n"
     ]
    }
   ],
   "source": [
    "import numpy as np\n",
    "\n",
    "# Given sorted array C (the bincount result)\n",
    "C = np.array([2, 3, 0, 1])  # Example bincount array\n",
    "\n",
    "# Produce array A\n",
    "A = np.repeat(np.arange(len(C)), C)\n",
    "\n",
    "print(\"Array A:\", A)\n",
    "print(\"Bincount of A:\", np.bincount(A))\n"
   ]
  },
  {
   "cell_type": "markdown",
   "id": "a2330e6c",
   "metadata": {},
   "source": [
    "#### 75. How to compute averages using a sliding window over an array? (★★★)"
   ]
  },
  {
   "cell_type": "code",
   "execution_count": 20,
   "id": "35e5e9f5",
   "metadata": {},
   "outputs": [
    {
     "name": "stdout",
     "output_type": "stream",
     "text": [
      "Sliding window averages: [2. 3. 4. 5. 6. 7. 8. 9.]\n"
     ]
    }
   ],
   "source": [
    "import numpy as np\n",
    "\n",
    "# Example 1D array\n",
    "array = np.array([1, 2, 3, 4, 5, 6, 7, 8, 9, 10])\n",
    "\n",
    "# Define the sliding window size\n",
    "window_size = 3\n",
    "\n",
    "# Create a window (all elements are 1, normalized by the window size)\n",
    "window = np.ones(window_size) / window_size\n",
    "\n",
    "# Compute the sliding window averages\n",
    "averages = np.convolve(array, window, mode='valid')\n",
    "\n",
    "print(\"Sliding window averages:\", averages)\n"
   ]
  },
  {
   "cell_type": "markdown",
   "id": "87698de8",
   "metadata": {},
   "source": [
    "#### 76. Consider a one-dimensional array Z, build a two-dimensional array whose first row is (Z[0],Z[1],Z[2]) and each subsequent row is  shifted by 1 (last row should be (Z[-3],Z[-2],Z[-1]) (★★★)"
   ]
  },
  {
   "cell_type": "code",
   "execution_count": 21,
   "id": "753763ed",
   "metadata": {},
   "outputs": [
    {
     "name": "stdout",
     "output_type": "stream",
     "text": [
      "Two-dimensional array:\n",
      "[[1 2 3]\n",
      " [2 3 4]\n",
      " [3 4 5]\n",
      " [4 5 6]\n",
      " [5 6 7]\n",
      " [6 7 8]]\n"
     ]
    }
   ],
   "source": [
    "import numpy as np\n",
    "\n",
    "# Define the one-dimensional array\n",
    "Z = np.array([1, 2, 3, 4, 5, 6, 7, 8])\n",
    "\n",
    "# Specify the window size (number of elements per row)\n",
    "window_size = 3\n",
    "\n",
    "# Build the two-dimensional array\n",
    "rows = len(Z) - window_size + 1  # Number of rows required\n",
    "result = np.array([Z[i:i + window_size] for i in range(rows)])\n",
    "\n",
    "print(\"Two-dimensional array:\")\n",
    "print(result)\n"
   ]
  },
  {
   "cell_type": "markdown",
   "id": "b8417b15",
   "metadata": {},
   "source": [
    "#### 77. How to negate a boolean, or to change the sign of a float inplace? (★★★)"
   ]
  },
  {
   "cell_type": "code",
   "execution_count": 22,
   "id": "3cad31b2",
   "metadata": {},
   "outputs": [
    {
     "name": "stdout",
     "output_type": "stream",
     "text": [
      "Negated boolean array: [False  True False False]\n"
     ]
    }
   ],
   "source": [
    "import numpy as np\n",
    "\n",
    "# Example boolean array\n",
    "bool_array = np.array([True, False, True, True])\n",
    "\n",
    "# Negate the boolean in-place\n",
    "bool_array[:] = ~bool_array\n",
    "\n",
    "print(\"Negated boolean array:\", bool_array)\n"
   ]
  },
  {
   "cell_type": "markdown",
   "id": "37a49831",
   "metadata": {},
   "source": [
    "#### 78. Consider 2 sets of points P0,P1 describing lines (2d) and a point p, how to compute distance from p to each line i (P0[i],P1[i])? (★★★)"
   ]
  },
  {
   "cell_type": "code",
   "execution_count": 23,
   "id": "df95dce8",
   "metadata": {},
   "outputs": [
    {
     "name": "stdout",
     "output_type": "stream",
     "text": [
      "Distances from p to each line segment: [np.float64(2.0), np.float64(1.0), np.float64(1.0)]\n"
     ]
    }
   ],
   "source": [
    "import numpy as np\n",
    "\n",
    "# Define the sets of points P0, P1, and the point p\n",
    "P0 = np.array([[0, 0], [1, 1], [2, 2]])  # Starting points of lines\n",
    "P1 = np.array([[1, 0], [2, 1], [3, 3]])  # Ending points of lines\n",
    "p = np.array([1, 2])  # Point for distance calculation\n",
    "\n",
    "# Compute the distances\n",
    "distances = []\n",
    "for i in range(len(P0)):\n",
    "    # Vector from P0 to P1\n",
    "    v = P1[i] - P0[i]\n",
    "    # Vector from P0 to p\n",
    "    w = p - P0[i]\n",
    "    # Project w onto v to find the closest point on the line\n",
    "    projection = np.dot(w, v) / np.dot(v, v)\n",
    "    projection = np.clip(projection, 0, 1)  # Ensure projection is within the segment\n",
    "    closest_point = P0[i] + projection * v\n",
    "    # Compute the distance from p to the closest point\n",
    "    distance = np.linalg.norm(p - closest_point)\n",
    "    distances.append(distance)\n",
    "\n",
    "print(\"Distances from p to each line segment:\", distances)\n"
   ]
  },
  {
   "cell_type": "markdown",
   "id": "f5ae032f",
   "metadata": {},
   "source": [
    "#### 79. Consider 2 sets of points P0,P1 describing lines (2d) and a set of points P, how to compute distance from each point j (P[j]) to each line i (P0[i],P1[i])? (★★★)"
   ]
  },
  {
   "cell_type": "code",
   "execution_count": 24,
   "id": "f5ae2e9b",
   "metadata": {},
   "outputs": [
    {
     "name": "stdout",
     "output_type": "stream",
     "text": [
      "Distances from each point to each line segment:\n",
      "[[2.         1.         1.        ]\n",
      " [2.23606798 1.         1.41421356]\n",
      " [0.         1.41421356 2.82842712]]\n"
     ]
    }
   ],
   "source": [
    "import numpy as np\n",
    "\n",
    "# Define the sets of points P0, P1 (lines) and P (points)\n",
    "P0 = np.array([[0, 0], [1, 1], [2, 2]])  # Starting points of lines\n",
    "P1 = np.array([[1, 0], [2, 1], [3, 3]])  # Ending points of lines\n",
    "P = np.array([[1, 2], [3, 1], [0, 0]])   # Set of points\n",
    "\n",
    "# Compute distances from each point in P to each line segment (P0[i], P1[i])\n",
    "distances = np.zeros((len(P), len(P0)))  # Initialize distance array\n",
    "\n",
    "for j in range(len(P)):  # Iterate over points P[j]\n",
    "    for i in range(len(P0)):  # Iterate over lines (P0[i], P1[i])\n",
    "        # Line vector and vector to point\n",
    "        v = P1[i] - P0[i]  # Vector from P0 to P1\n",
    "        w = P[j] - P0[i]   # Vector from P0 to P[j]\n",
    "\n",
    "        # Project w onto v to find the closest point on the line\n",
    "        projection = np.dot(w, v) / np.dot(v, v)\n",
    "        projection = np.clip(projection, 0, 1)  # Ensure projection is within the segment\n",
    "        closest_point = P0[i] + projection * v\n",
    "\n",
    "        # Compute the distance from P[j] to the closest point\n",
    "        distances[j, i] = np.linalg.norm(P[j] - closest_point)\n",
    "\n",
    "print(\"Distances from each point to each line segment:\")\n",
    "print(distances)\n"
   ]
  },
  {
   "cell_type": "markdown",
   "id": "6bc35ba2",
   "metadata": {},
   "source": [
    "#### 80. Consider an arbitrary array, write a function that extract a subpart with a fixed shape and centered on a given element (pad with a `fill` value when necessary) (★★★)"
   ]
  },
  {
   "cell_type": "code",
   "execution_count": 25,
   "id": "2ad8db75",
   "metadata": {},
   "outputs": [
    {
     "name": "stdout",
     "output_type": "stream",
     "text": [
      "Distances from each point to each line segment:\n",
      "[[2.         1.         1.        ]\n",
      " [2.23606798 1.         1.41421356]\n",
      " [0.         1.41421356 2.82842712]]\n"
     ]
    }
   ],
   "source": [
    "import numpy as np\n",
    "\n",
    "# Define the sets of points P0, P1 (lines) and P (points)\n",
    "P0 = np.array([[0, 0], [1, 1], [2, 2]])  # Starting points of lines\n",
    "P1 = np.array([[1, 0], [2, 1], [3, 3]])  # Ending points of lines\n",
    "P = np.array([[1, 2], [3, 1], [0, 0]])   # Set of points\n",
    "\n",
    "# Compute distances from each point in P to each line segment (P0[i], P1[i])\n",
    "distances = np.zeros((len(P), len(P0)))  # Initialize distance array\n",
    "\n",
    "for j in range(len(P)):  # Iterate over points P[j]\n",
    "    for i in range(len(P0)):  # Iterate over lines (P0[i], P1[i])\n",
    "        # Line vector and vector to point\n",
    "        v = P1[i] - P0[i]  # Vector from P0 to P1\n",
    "        w = P[j] - P0[i]   # Vector from P0 to P[j]\n",
    "\n",
    "        # Project w onto v to find the closest point on the line\n",
    "        projection = np.dot(w, v) / np.dot(v, v)\n",
    "        projection = np.clip(projection, 0, 1)  # Ensure projection is within the segment\n",
    "        closest_point = P0[i] + projection * v\n",
    "\n",
    "        # Compute the distance from P[j] to the closest point\n",
    "        distances[j, i] = np.linalg.norm(P[j] - closest_point)\n",
    "\n",
    "print(\"Distances from each point to each line segment:\")\n",
    "print(distances)\n"
   ]
  },
  {
   "cell_type": "markdown",
   "id": "d17818f7",
   "metadata": {},
   "source": [
    "#### 81. Consider an array Z = [1,2,3,4,5,6,7,8,9,10,11,12,13,14], how to generate an array R = [[1,2,3,4], [2,3,4,5], [3,4,5,6], ..., [11,12,13,14]]? (★★★)"
   ]
  },
  {
   "cell_type": "code",
   "execution_count": 26,
   "id": "97deb72f",
   "metadata": {},
   "outputs": [
    {
     "name": "stdout",
     "output_type": "stream",
     "text": [
      "Generated array R:\n",
      "[[ 1  2  3  4]\n",
      " [ 2  3  4  5]\n",
      " [ 3  4  5  6]\n",
      " [ 4  5  6  7]\n",
      " [ 5  6  7  8]\n",
      " [ 6  7  8  9]\n",
      " [ 7  8  9 10]\n",
      " [ 8  9 10 11]\n",
      " [ 9 10 11 12]\n",
      " [10 11 12 13]\n",
      " [11 12 13 14]]\n"
     ]
    }
   ],
   "source": [
    "import numpy as np\n",
    "\n",
    "# Input array\n",
    "Z = np.array([1, 2, 3, 4, 5, 6, 7, 8, 9, 10, 11, 12, 13, 14])\n",
    "\n",
    "# Define the window size\n",
    "window_size = 4\n",
    "\n",
    "# Generate the array R using a sliding window\n",
    "R = np.array([Z[i:i + window_size] for i in range(len(Z) - window_size + 1)])\n",
    "\n",
    "print(\"Generated array R:\")\n",
    "print(R)\n"
   ]
  },
  {
   "cell_type": "markdown",
   "id": "67f526e6",
   "metadata": {},
   "source": [
    "#### 82. Compute a matrix rank (★★★)"
   ]
  },
  {
   "cell_type": "code",
   "execution_count": 27,
   "id": "d70bed5b",
   "metadata": {},
   "outputs": [
    {
     "name": "stdout",
     "output_type": "stream",
     "text": [
      "Rank of the matrix: 2\n"
     ]
    }
   ],
   "source": [
    "import numpy as np\n",
    "\n",
    "# Define a matrix\n",
    "matrix = np.array([[1, 2, 3],\n",
    "                   [4, 5, 6],\n",
    "                   [7, 8, 9]])\n",
    "\n",
    "# Compute the rank of the matrix\n",
    "rank = np.linalg.matrix_rank(matrix)\n",
    "\n",
    "print(\"Rank of the matrix:\", rank)\n"
   ]
  },
  {
   "cell_type": "markdown",
   "id": "0a3fb55f",
   "metadata": {},
   "source": [
    "#### 83. How to find the most frequent value in an array?"
   ]
  },
  {
   "cell_type": "code",
   "execution_count": 28,
   "id": "b0647d07",
   "metadata": {},
   "outputs": [
    {
     "name": "stdout",
     "output_type": "stream",
     "text": [
      "Most frequent value: 4\n"
     ]
    }
   ],
   "source": [
    "import numpy as np\n",
    "\n",
    "# Example array\n",
    "array = np.array([1, 2, 3, 4, 2, 2, 3, 1, 4, 4, 4])\n",
    "\n",
    "# Find the most frequent value\n",
    "most_frequent = np.bincount(array).argmax()\n",
    "\n",
    "print(\"Most frequent value:\", most_frequent)\n"
   ]
  },
  {
   "cell_type": "markdown",
   "id": "cb0ac341",
   "metadata": {},
   "source": [
    "#### 84. Extract all the contiguous 3x3 blocks from a random 10x10 matrix (★★★)"
   ]
  },
  {
   "cell_type": "code",
   "execution_count": 29,
   "id": "91798923",
   "metadata": {},
   "outputs": [
    {
     "name": "stdout",
     "output_type": "stream",
     "text": [
      "Most frequent value: 4\n"
     ]
    }
   ],
   "source": [
    "import numpy as np\n",
    "\n",
    "# Example array\n",
    "array = np.array([1, 2, 3, 4, 2, 2, 3, 1, 4, 4, 4])\n",
    "\n",
    "# Find the most frequent value\n",
    "most_frequent = np.bincount(array).argmax()\n",
    "\n",
    "print(\"Most frequent value:\", most_frequent)\n"
   ]
  },
  {
   "cell_type": "markdown",
   "id": "c2a9da0d",
   "metadata": {},
   "source": [
    "#### 85. Create a 2D array subclass such that Z[i,j] == Z[j,i] (★★★)"
   ]
  },
  {
   "cell_type": "code",
   "execution_count": 31,
   "id": "f9b027ff",
   "metadata": {},
   "outputs": [
    {
     "name": "stdout",
     "output_type": "stream",
     "text": [
      "Z[3, 2]: 7.0\n",
      "Symmetric array:\n",
      "[[0. 0. 0. 0. 0.]\n",
      " [0. 0. 0. 0. 0.]\n",
      " [0. 0. 0. 7. 0.]\n",
      " [0. 0. 7. 0. 0.]\n",
      " [0. 0. 0. 0. 0.]]\n"
     ]
    }
   ],
   "source": [
    "import numpy as np\n",
    "\n",
    "class SymmetricArray(np.ndarray):\n",
    "    def __new__(cls, input_array):\n",
    "        # Create an instance of the subclass\n",
    "        obj = np.asarray(input_array).view(cls)\n",
    "        return obj\n",
    "    \n",
    "    def __getitem__(self, indices):\n",
    "        i, j = indices\n",
    "        # Ensure symmetry: return the value at (i, j) or (j, i)\n",
    "        return super().__getitem__((min(i, j), max(i, j)))\n",
    "    \n",
    "    def __setitem__(self, indices, value):\n",
    "        i, j = indices\n",
    "        # Ensure symmetry: set the value at (i, j) and (j, i)\n",
    "        super().__setitem__((min(i, j), max(i, j)), value)\n",
    "\n",
    "# Example usage\n",
    "data = np.zeros((5, 5))  # Initialize a symmetric matrix with zeros\n",
    "Z = SymmetricArray(data)\n",
    "\n",
    "Z[2, 3] = 7  # Set value at (2, 3), automatically sets (3, 2) to the same value\n",
    "print(\"Z[3, 2]:\", Z[3, 2])  # Access (3, 2), which is the same as (2, 3)\n",
    "print(\"Symmetric array:\")\n",
    "print(Z)\n"
   ]
  },
  {
   "cell_type": "markdown",
   "id": "718ac868",
   "metadata": {},
   "source": [
    "#### 86. Consider a set of p matrices with shape (n,n) and a set of p vectors with shape (n,1). How to compute the sum of of the p matrix products at once? (result has shape (n,1)) (★★★)"
   ]
  },
  {
   "cell_type": "code",
   "execution_count": 32,
   "id": "4de05217",
   "metadata": {},
   "outputs": [
    {
     "name": "stdout",
     "output_type": "stream",
     "text": [
      "Result:\n",
      "[3.79669076 2.57926607 2.80506432 2.60187967]\n"
     ]
    }
   ],
   "source": [
    "import numpy as np\n",
    "\n",
    "# Example set of p matrices (shape (p, n, n)) and p vectors (shape (p, n, 1))\n",
    "p, n = 3, 4\n",
    "A = np.random.rand(p, n, n)  # Set of p matrices\n",
    "x = np.random.rand(p, n, 1)  # Set of p vectors\n",
    "\n",
    "# Compute the sum of matrix products\n",
    "result = np.einsum('pij,pjk->ik', A, x).squeeze()\n",
    "\n",
    "print(\"Result:\")\n",
    "print(result)\n"
   ]
  },
  {
   "cell_type": "markdown",
   "id": "a6eda6f8",
   "metadata": {},
   "source": [
    "#### 87. Consider a 16x16 array, how to get the block-sum (block size is 4x4)? (★★★)"
   ]
  },
  {
   "cell_type": "code",
   "execution_count": 33,
   "id": "286b8db5",
   "metadata": {},
   "outputs": [
    {
     "name": "stdout",
     "output_type": "stream",
     "text": [
      "Block-sum array:\n",
      "[[ 6.65445463 10.07431492  9.14614131  9.45629063]\n",
      " [ 8.40263125  7.67136085  7.62660339  7.93445524]\n",
      " [ 7.49706197  6.18019381  6.72957309 10.0656169 ]\n",
      " [ 8.18312753 10.65774768  8.8537749   8.68246296]]\n"
     ]
    }
   ],
   "source": [
    "import numpy as np\n",
    "\n",
    "# Create a 16x16 example array\n",
    "array = np.random.rand(16, 16)\n",
    "\n",
    "# Reshape the array into 4x4 blocks and compute the sum\n",
    "block_size = 4\n",
    "block_sum = array.reshape(16 // block_size, block_size, 16 // block_size, block_size).sum(axis=(1, 3))\n",
    "\n",
    "print(\"Block-sum array:\")\n",
    "print(block_sum)\n"
   ]
  },
  {
   "cell_type": "markdown",
   "id": "625aa611",
   "metadata": {},
   "source": [
    "#### 88. How to implement the Game of Life using numpy arrays? (★★★)"
   ]
  },
  {
   "cell_type": "code",
   "execution_count": 35,
   "id": "a01c1ff2",
   "metadata": {},
   "outputs": [
    {
     "name": "stdout",
     "output_type": "stream",
     "text": [
      "Initial board:\n",
      "[[0 1 1 0 1 1 1 1 1 1]\n",
      " [1 0 0 1 0 0 0 0 0 1]\n",
      " [0 1 1 0 0 1 1 1 1 0]\n",
      " [1 0 1 0 1 1 0 1 1 0]\n",
      " [0 1 0 1 1 1 1 1 0 1]\n",
      " [0 1 1 1 1 0 1 0 0 1]\n",
      " [1 0 1 0 1 0 0 0 0 0]\n",
      " [1 1 0 0 0 1 1 0 1 0]\n",
      " [0 1 0 1 1 1 1 1 1 0]\n",
      " [1 1 0 0 1 0 0 1 1 0]]\n",
      "\n",
      "Board after one step:\n",
      "[[0 0 1 0 1 1 1 0 0 0]\n",
      " [0 0 0 1 0 0 0 0 0 0]\n",
      " [0 0 1 0 0 1 0 0 0 0]\n",
      " [1 0 0 0 0 0 0 0 0 0]\n",
      " [0 0 0 0 0 0 0 0 0 1]\n",
      " [0 0 0 0 0 0 1 1 1 1]\n",
      " [0 0 0 0 1 0 1 1 0 0]\n",
      " [1 0 0 0 0 0 0 0 1 0]\n",
      " [0 0 0 1 0 0 0 0 0 0]\n",
      " [0 0 0 0 0 0 0 0 0 0]]\n"
     ]
    }
   ],
   "source": [
    "import numpy as np\n",
    "\n",
    "def game_of_life_step(board):\n",
    "    \"\"\"\n",
    "    Perform one step of the Game of Life on the given board.\n",
    "    \n",
    "    Parameters:\n",
    "    - board: 2D NumPy array where 1 represents a live cell and 0 represents a dead cell.\n",
    "    \n",
    "    Returns:\n",
    "    - Updated board after one step.\n",
    "    \"\"\"\n",
    "    # Count neighbors using convolution-like logic\n",
    "    neighbors = (\n",
    "        np.roll(np.roll(board, 1, 0), 1, 1) + np.roll(np.roll(board, 1, 0), -1, 1) +\n",
    "        np.roll(np.roll(board, -1, 0), 1, 1) + np.roll(np.roll(board, -1, 0), -1, 1) +\n",
    "        np.roll(board, 1, 0) + np.roll(board, -1, 0) +\n",
    "        np.roll(board, 1, 1) + np.roll(board, -1, 1)\n",
    "    )\n",
    "    \n",
    "    # Apply the rules of the Game of Life\n",
    "    new_board = (neighbors == 3) | (board & (neighbors == 2))\n",
    "    return new_board.astype(int)\n",
    "\n",
    "# Initialize the board (10x10 grid with a random state)\n",
    "np.random.seed(0)\n",
    "board = np.random.randint(0, 2, (10, 10))\n",
    "\n",
    "# Display the initial board\n",
    "print(\"Initial board:\")\n",
    "print(board)\n",
    "\n",
    "# Perform one step\n",
    "board = game_of_life_step(board)\n",
    "\n",
    "# Display the updated board\n",
    "print(\"\\nBoard after one step:\")\n",
    "print(board)\n"
   ]
  },
  {
   "cell_type": "markdown",
   "id": "ca3dde4a",
   "metadata": {},
   "source": [
    "#### 89. How to get the n largest values of an array (★★★)"
   ]
  },
  {
   "cell_type": "code",
   "execution_count": 36,
   "id": "5d14148c",
   "metadata": {},
   "outputs": [
    {
     "name": "stdout",
     "output_type": "stream",
     "text": [
      "n largest values: [100  70  40]\n"
     ]
    }
   ],
   "source": [
    "import numpy as np\n",
    "\n",
    "# Example array\n",
    "array = np.array([10, 20, 5, 8, 70, 30, 100, 40])\n",
    "\n",
    "# Number of largest values to find\n",
    "n = 3\n",
    "\n",
    "# Get the indices of the n largest values\n",
    "indices = np.argpartition(array, -n)[-n:]\n",
    "\n",
    "# Extract the n largest values\n",
    "n_largest_values = array[indices]\n",
    "\n",
    "# Optionally, sort the largest values in descending order\n",
    "n_largest_values_sorted = np.sort(n_largest_values)[::-1]\n",
    "\n",
    "print(\"n largest values:\", n_largest_values_sorted)\n"
   ]
  },
  {
   "cell_type": "markdown",
   "id": "e233805e",
   "metadata": {},
   "source": [
    "#### 90. Given an arbitrary number of vectors, build the cartesian product (every combinations of every item) (★★★)"
   ]
  },
  {
   "cell_type": "code",
   "execution_count": 37,
   "id": "17638e13",
   "metadata": {},
   "outputs": [
    {
     "name": "stdout",
     "output_type": "stream",
     "text": [
      "Cartesian product:\n",
      "[[1 4 6]\n",
      " [1 4 7]\n",
      " [1 4 8]\n",
      " [1 5 6]\n",
      " [1 5 7]\n",
      " [1 5 8]\n",
      " [2 4 6]\n",
      " [2 4 7]\n",
      " [2 4 8]\n",
      " [2 5 6]\n",
      " [2 5 7]\n",
      " [2 5 8]\n",
      " [3 4 6]\n",
      " [3 4 7]\n",
      " [3 4 8]\n",
      " [3 5 6]\n",
      " [3 5 7]\n",
      " [3 5 8]]\n"
     ]
    }
   ],
   "source": [
    "import numpy as np\n",
    "from itertools import product\n",
    "\n",
    "# Example input: arbitrary number of vectors\n",
    "vectors = [np.array([1, 2, 3]), np.array([4, 5]), np.array([6, 7, 8])]\n",
    "\n",
    "# Compute the Cartesian product\n",
    "cartesian_product = np.array(list(product(*vectors)))\n",
    "\n",
    "print(\"Cartesian product:\")\n",
    "print(cartesian_product)\n"
   ]
  },
  {
   "cell_type": "markdown",
   "id": "c163f115",
   "metadata": {},
   "source": [
    "#### 91. How to create a record array from a regular array? (★★★)"
   ]
  },
  {
   "cell_type": "code",
   "execution_count": 38,
   "id": "da402514",
   "metadata": {},
   "outputs": [
    {
     "name": "stdout",
     "output_type": "stream",
     "text": [
      "Record array:\n",
      "[(1, 4, 7) (2, 5, 8) (3, 6, 9)]\n",
      "Access field 'a': [1 2 3]\n"
     ]
    },
    {
     "name": "stderr",
     "output_type": "stream",
     "text": [
      "C:\\Users\\romal\\AppData\\Local\\Temp\\ipykernel_14640\\2723749191.py:9: DeprecationWarning: numpy.core is deprecated and has been renamed to numpy._core. The numpy._core namespace contains private NumPy internals and its use is discouraged, as NumPy internals can change without warning in any release. In practice, most real-world usage of numpy.core is to access functionality in the public NumPy API. If that is the case, use the public NumPy API. If not, you are using NumPy internals. If you would still like to access an internal attribute, use numpy._core.records.\n",
      "  record_array = np.core.records.fromarrays(data, names='a, b, c')\n"
     ]
    }
   ],
   "source": [
    "import numpy as np\n",
    "\n",
    "# Example regular array\n",
    "data = np.array([[1, 2, 3],\n",
    "                 [4, 5, 6],\n",
    "                 [7, 8, 9]])\n",
    "\n",
    "# Create a record array with field names\n",
    "record_array = np.core.records.fromarrays(data, names='a, b, c')\n",
    "\n",
    "print(\"Record array:\")\n",
    "print(record_array)\n",
    "print(\"Access field 'a':\", record_array.a)\n"
   ]
  },
  {
   "cell_type": "markdown",
   "id": "049c006e",
   "metadata": {},
   "source": [
    "#### 92. Consider a large vector Z, compute Z to the power of 3 using 3 different methods (★★★)"
   ]
  },
  {
   "cell_type": "code",
   "execution_count": 39,
   "id": "96ce278a",
   "metadata": {},
   "outputs": [
    {
     "name": "stdout",
     "output_type": "stream",
     "text": [
      "True\n",
      "True\n"
     ]
    }
   ],
   "source": [
    "import numpy as np\n",
    "\n",
    "# Create a large vector Z\n",
    "Z = np.random.rand(10**6)  # Vector with 1 million elements\n",
    "\n",
    "# Method 1: Using NumPy's power function\n",
    "method1 = np.power(Z, 3)\n",
    "\n",
    "# Method 2: Using element-wise multiplication\n",
    "method2 = Z * Z * Z\n",
    "\n",
    "# Method 3: Using NumPy's ufunc for power (** operator)\n",
    "method3 = Z ** 3\n",
    "\n",
    "# Verify that all methods produce the same result\n",
    "print(np.allclose(method1, method2))  # Should print: True\n",
    "print(np.allclose(method1, method3))  # Should print: True\n"
   ]
  },
  {
   "cell_type": "markdown",
   "id": "6e652635",
   "metadata": {},
   "source": [
    "#### 93. Consider two arrays A and B of shape (8,3) and (2,2). How to find rows of A that contain elements of each row of B regardless of the order of the elements in B? (★★★)"
   ]
  },
  {
   "cell_type": "code",
   "execution_count": 42,
   "id": "f429d6d4",
   "metadata": {},
   "outputs": [
    {
     "ename": "ValueError",
     "evalue": "Calling nonzero on 0d arrays is not allowed. Use np.atleast_1d(scalar).nonzero() instead. If the context of this error is of the form `arr[nonzero(cond)]`, just use `arr[cond]`.",
     "output_type": "error",
     "traceback": [
      "\u001b[1;31m---------------------------------------------------------------------------\u001b[0m",
      "\u001b[1;31mValueError\u001b[0m                                Traceback (most recent call last)",
      "Cell \u001b[1;32mIn[42], line 12\u001b[0m\n\u001b[0;32m      9\u001b[0m \u001b[38;5;28;01mfor\u001b[39;00m b \u001b[38;5;129;01min\u001b[39;00m B:\n\u001b[0;32m     10\u001b[0m     \u001b[38;5;66;03m# Check if all elements of row b in B exist in any row of A\u001b[39;00m\n\u001b[0;32m     11\u001b[0m     matches \u001b[38;5;241m=\u001b[39m np\u001b[38;5;241m.\u001b[39mall([np\u001b[38;5;241m.\u001b[39misin(b[\u001b[38;5;241m0\u001b[39m], A), np\u001b[38;5;241m.\u001b[39misin(b[\u001b[38;5;241m1\u001b[39m], A)], axis\u001b[38;5;241m=\u001b[39m\u001b[38;5;241m0\u001b[39m)\n\u001b[1;32m---> 12\u001b[0m     rows\u001b[38;5;241m.\u001b[39mappend(\u001b[43mnp\u001b[49m\u001b[38;5;241;43m.\u001b[39;49m\u001b[43mwhere\u001b[49m\u001b[43m(\u001b[49m\u001b[43mmatches\u001b[49m\u001b[43m)\u001b[49m[\u001b[38;5;241m0\u001b[39m])\n\u001b[0;32m     14\u001b[0m \u001b[38;5;28mprint\u001b[39m(\u001b[38;5;124m\"\u001b[39m\u001b[38;5;124mMatrix A:\u001b[39m\u001b[38;5;124m\"\u001b[39m)\n\u001b[0;32m     15\u001b[0m \u001b[38;5;28mprint\u001b[39m(A)\n",
      "\u001b[1;31mValueError\u001b[0m: Calling nonzero on 0d arrays is not allowed. Use np.atleast_1d(scalar).nonzero() instead. If the context of this error is of the form `arr[nonzero(cond)]`, just use `arr[cond]`."
     ]
    }
   ],
   "source": [
    "import numpy as np\n",
    "\n",
    "# Define A and B\n",
    "A = np.random.randint(0, 10, (8, 3))  # Example array A (8x3)\n",
    "B = np.random.randint(0, 10, (2, 2))  # Example array B (2x2)\n",
    "\n",
    "# Find rows of A that contain all elements of each row of B\n",
    "rows = []\n",
    "for b in B:\n",
    "    # Check if all elements of row b in B exist in any row of A\n",
    "    matches = np.all([np.isin(b[0], A), np.isin(b[1], A)], axis=0)\n",
    "    rows.append(np.where(matches)[0])\n",
    "\n",
    "print(\"Matrix A:\")\n",
    "print(A)\n",
    "print(\"\\nMatrix B:\")\n",
    "print(B)\n",
    "print(\"\\nRows of A containing all elements of each row in B:\")\n",
    "print(rows)\n"
   ]
  },
  {
   "cell_type": "markdown",
   "id": "33c4755d",
   "metadata": {},
   "source": [
    "#### 94. Considering a 10x3 matrix, extract rows with unequal values (e.g. [2,2,3]) (★★★)\n"
   ]
  },
  {
   "cell_type": "code",
   "execution_count": 44,
   "id": "29507586",
   "metadata": {},
   "outputs": [
    {
     "name": "stdout",
     "output_type": "stream",
     "text": [
      "Original matrix:\n",
      "[[4 4 1]\n",
      " [4 4 2]\n",
      " [4 3 3]\n",
      " [1 1 1]\n",
      " [2 4 4]\n",
      " [4 2 1]\n",
      " [1 0 0]\n",
      " [1 4 3]\n",
      " [3 1 2]\n",
      " [2 3 2]]\n",
      "\n",
      "Rows with unequal values:\n",
      "[[4 4 1]\n",
      " [4 4 2]\n",
      " [4 3 3]\n",
      " [2 4 4]\n",
      " [4 2 1]\n",
      " [1 0 0]\n",
      " [1 4 3]\n",
      " [3 1 2]\n",
      " [2 3 2]]\n"
     ]
    }
   ],
   "source": [
    "import numpy as np\n",
    "\n",
    "# Example 10x3 matrix\n",
    "matrix = np.random.randint(0, 5, (10, 3))  # Random integers between 0 and 4\n",
    "\n",
    "# Identify rows with unequal values\n",
    "unequal_rows = matrix[np.any(matrix != matrix[:, 0][:, np.newaxis], axis=1)]\n",
    "\n",
    "print(\"Original matrix:\")\n",
    "print(matrix)\n",
    "print(\"\\nRows with unequal values:\")\n",
    "print(unequal_rows)\n",
    "\n"
   ]
  },
  {
   "cell_type": "markdown",
   "id": "c9fe158d",
   "metadata": {},
   "source": [
    "### 95 convert a vector ints into a matrix binary representation"
   ]
  },
  {
   "cell_type": "code",
   "execution_count": 50,
   "id": "58209fb7",
   "metadata": {},
   "outputs": [
    {
     "name": "stdout",
     "output_type": "stream",
     "text": [
      "Original vector:\n",
      "[ 5 10 15]\n",
      "\n",
      "Binary representation matrix:\n",
      "[[0 1 0 1]\n",
      " [1 0 1 0]\n",
      " [1 1 1 1]]\n"
     ]
    }
   ],
   "source": [
    "import numpy as np\n",
    "\n",
    "def vector_to_binary_matrix(vector, bits=None):\n",
    "    \"\"\"\n",
    "    Convert a vector of integers into a matrix of binary representations.\n",
    "    \n",
    "    Parameters:\n",
    "    - vector: 1D array of integers.\n",
    "    - bits: Number of bits for binary representation (optional). If None, it automatically calculates based on the maximum integer.\n",
    "    \n",
    "    Returns:\n",
    "    - Binary matrix: 2D array where each row represents the binary representation of an integer.\n",
    "    \"\"\"\n",
    "    # Determine the number of bits if not provided\n",
    "    if bits is None:\n",
    "        bits = int(np.floor(np.log2(max(vector))) + 1)\n",
    "\n",
    "    # Convert each integer to binary and store as rows in the matrix\n",
    "    binary_matrix = np.array([np.binary_repr(v, width=bits) for v in vector], dtype='U')\n",
    "    binary_matrix = np.array([list(map(int, row)) for row in binary_matrix])\n",
    "\n",
    "    return binary_matrix\n",
    "\n",
    "# Example usage\n",
    "vector = np.array([5, 10, 15])\n",
    "binary_matrix = vector_to_binary_matrix(vector)\n",
    "\n",
    "print(\"Original vector:\")\n",
    "print(vector)\n",
    "print(\"\\nBinary representation matrix:\")\n",
    "print(binary_matrix)\n"
   ]
  },
  {
   "cell_type": "markdown",
   "id": "f60086c9",
   "metadata": {},
   "source": [
    "#### 96. Given a two dimensional array, how to extract unique rows? (★★★)"
   ]
  },
  {
   "cell_type": "code",
   "execution_count": 45,
   "id": "787b6e4c",
   "metadata": {},
   "outputs": [
    {
     "name": "stdout",
     "output_type": "stream",
     "text": [
      "Original array:\n",
      "[[1 2 3]\n",
      " [4 5 6]\n",
      " [1 2 3]\n",
      " [7 8 9]\n",
      " [4 5 6]]\n",
      "\n",
      "Unique rows:\n",
      "[[1 2 3]\n",
      " [4 5 6]\n",
      " [7 8 9]]\n"
     ]
    }
   ],
   "source": [
    "import numpy as np\n",
    "\n",
    "# Example two-dimensional array\n",
    "array = np.array([[1, 2, 3],\n",
    "                  [4, 5, 6],\n",
    "                  [1, 2, 3],\n",
    "                  [7, 8, 9],\n",
    "                  [4, 5, 6]])\n",
    "\n",
    "# Extract unique rows\n",
    "unique_rows = np.unique(array, axis=0)\n",
    "\n",
    "print(\"Original array:\")\n",
    "print(array)\n",
    "print(\"\\nUnique rows:\")\n",
    "print(unique_rows)\n"
   ]
  },
  {
   "cell_type": "markdown",
   "id": "0f5e1299",
   "metadata": {},
   "source": [
    "#### 97. Considering 2 vectors A & B, write the einsum equivalent of inner, outer, sum, and mul function (★★★)"
   ]
  },
  {
   "cell_type": "code",
   "execution_count": 46,
   "id": "cd2a8214",
   "metadata": {},
   "outputs": [
    {
     "name": "stdout",
     "output_type": "stream",
     "text": [
      "Inner product: 32\n"
     ]
    }
   ],
   "source": [
    "import numpy as np\n",
    "\n",
    "A = np.array([1, 2, 3])\n",
    "B = np.array([4, 5, 6])\n",
    "\n",
    "# Inner product using einsum\n",
    "inner = np.einsum('i,i->', A, B)\n",
    "\n",
    "print(\"Inner product:\", inner)\n"
   ]
  },
  {
   "cell_type": "markdown",
   "id": "a04dd898",
   "metadata": {},
   "source": [
    "#### 98. Considering a path described by two vectors (X,Y), how to sample it using equidistant samples (★★★)?"
   ]
  },
  {
   "cell_type": "code",
   "execution_count": 47,
   "id": "12d9c30f",
   "metadata": {},
   "outputs": [
    {
     "name": "stdout",
     "output_type": "stream",
     "text": [
      "Inner product: 32\n"
     ]
    }
   ],
   "source": [
    "import numpy as np\n",
    "\n",
    "A = np.array([1, 2, 3])\n",
    "B = np.array([4, 5, 6])\n",
    "\n",
    "# Inner product using einsum\n",
    "inner = np.einsum('i,i->', A, B)\n",
    "\n",
    "print(\"Inner product:\", inner)\n"
   ]
  },
  {
   "cell_type": "markdown",
   "id": "b45bf2ae",
   "metadata": {},
   "source": [
    "#### 99. Given an integer n and a 2D array X, select from X the rows which can be interpreted as draws from a multinomial distribution with n degrees, i.e., the rows which only contain integers and which sum to n. (★★★)"
   ]
  },
  {
   "cell_type": "code",
   "execution_count": 48,
   "id": "f4179f4a",
   "metadata": {},
   "outputs": [
    {
     "name": "stdout",
     "output_type": "stream",
     "text": [
      "Sampled points (X, Y):\n",
      "[[0.         0.        ]\n",
      " [0.44444444 0.44444444]\n",
      " [0.88888889 0.88888889]\n",
      " [1.33333333 0.66666667]\n",
      " [1.77777778 0.22222222]\n",
      " [2.22222222 0.22222222]\n",
      " [2.66666667 0.66666667]\n",
      " [3.11111111 0.88888889]\n",
      " [3.55555556 0.44444444]\n",
      " [4.         0.        ]]\n"
     ]
    }
   ],
   "source": [
    "import numpy as np\n",
    "\n",
    "# Example path described by X and Y\n",
    "X = np.array([0, 1, 2, 3, 4])\n",
    "Y = np.array([0, 1, 0, 1, 0])\n",
    "\n",
    "# Number of equidistant samples\n",
    "num_samples = 10\n",
    "\n",
    "# Calculate the cumulative distance along the path\n",
    "distances = np.sqrt(np.diff(X)**2 + np.diff(Y)**2)\n",
    "cumulative_distance = np.concatenate([[0], np.cumsum(distances)])\n",
    "\n",
    "# Interpolate to get equidistant sample points\n",
    "new_distances = np.linspace(0, cumulative_distance[-1], num_samples)\n",
    "new_X = np.interp(new_distances, cumulative_distance, X)\n",
    "new_Y = np.interp(new_distances, cumulative_distance, Y)\n",
    "\n",
    "# Resulting sampled points\n",
    "sampled_points = np.column_stack((new_X, new_Y))\n",
    "\n",
    "print(\"Sampled points (X, Y):\")\n",
    "print(sampled_points)\n"
   ]
  },
  {
   "cell_type": "markdown",
   "id": "d92b6592",
   "metadata": {},
   "source": [
    "#### 100. Compute bootstrapped 95% confidence intervals for the mean of a 1D array X (i.e., resample the elements of an array with replacement N times, compute the mean of each sample, and then compute percentiles over the means). (★★★)"
   ]
  },
  {
   "cell_type": "code",
   "execution_count": 49,
   "id": "256ebe30",
   "metadata": {},
   "outputs": [
    {
     "name": "stdout",
     "output_type": "stream",
     "text": [
      "Bootstrapped 95% confidence interval for the mean:\n",
      "Lower bound: 0.42886166749910487, Upper bound: 0.5462487586842053\n"
     ]
    }
   ],
   "source": [
    "import numpy as np\n",
    "\n",
    "# Example 1D array\n",
    "X = np.random.rand(100)  # Array of random numbers\n",
    "\n",
    "# Number of bootstrap resamples\n",
    "N = 1000\n",
    "\n",
    "# Bootstrap resampling\n",
    "bootstrap_means = np.array([np.mean(np.random.choice(X, size=len(X), replace=True)) for _ in range(N)])\n",
    "\n",
    "# Compute 95% confidence intervals (percentiles 2.5 and 97.5)\n",
    "lower_bound = np.percentile(bootstrap_means, 2.5)\n",
    "upper_bound = np.percentile(bootstrap_means, 97.5)\n",
    "\n",
    "print(\"Bootstrapped 95% confidence interval for the mean:\")\n",
    "print(f\"Lower bound: {lower_bound}, Upper bound: {upper_bound}\")\n"
   ]
  }
 ],
 "metadata": {
  "kernelspec": {
   "display_name": "Python 3",
   "language": "python",
   "name": "python3"
  },
  "language_info": {
   "codemirror_mode": {
    "name": "ipython",
    "version": 3
   },
   "file_extension": ".py",
   "mimetype": "text/x-python",
   "name": "python",
   "nbconvert_exporter": "python",
   "pygments_lexer": "ipython3",
   "version": "3.11.9"
  }
 },
 "nbformat": 4,
 "nbformat_minor": 5
}
